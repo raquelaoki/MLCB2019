{
 "cells": [
  {
   "cell_type": "code",
   "execution_count": 16,
   "metadata": {},
   "outputs": [],
   "source": [
    "'''Loading libraries'''\n",
    "import pandas as pd \n",
    "import numpy as np \n",
    "from scipy.stats import dirichlet, beta, nbinom, norm\n",
    "from scipy.special import loggamma,gamma\n",
    "import time\n",
    "import matplotlib.pyplot as plt\n",
    "import math\n",
    "\n",
    "'''\n",
    "Notes: \n",
    "- my prob accept F is always zero\n",
    "- when i add more columns the aceptance rate goes to 0. \n",
    "- Fix the saving files part, memory problms \n",
    "- Track running time\n",
    "- create a function to save files/images with a labeled name \n",
    "'''\n",
    "\n",
    "\n",
    "'''Important parameters I need to constantly change'''\n",
    "k = 100\n",
    "\n",
<<<<<<< HEAD
    "sim = 300\n",
=======
    "sim = 500\n",
>>>>>>> e1fa92e2addf188fbd73fa64fcb3cf80669830ca
    "start_time = time.time()\n"
   ]
  },
  {
   "cell_type": "code",
   "execution_count": 17,
   "metadata": {},
   "outputs": [],
   "source": [
    "'''Loading dataset'''\n",
    "filename = \"C:\\\\Users\\\\raoki\\\\Documents\\\\GitHub\\\\project_spring2019\\\\Data\\\\data_final.csv\"\n",
    "#filename = \"C:\\\\Users\\\\raque\\\\Google Drive\\\\SFU\\\\Project 2 - Spring 2019\\\\Data\\\\data_final.csv\"\n",
    "#filename = \"C:\\\\Users\\\\raque\\\\Google Drive\\\\SFU\\\\Project 2 - Spring 2019\\\\Data\\\\data_final_sub.csv\"\n",
    "data = pd.read_csv(filename, sep=',')\n"
   ]
  },
  {
   "cell_type": "code",
   "execution_count": 18,
   "metadata": {},
   "outputs": [
    {
     "data": {
      "text/plain": [
       "(2854, 5000)"
      ]
     },
     "execution_count": 18,
     "metadata": {},
     "output_type": "execute_result"
    }
   ],
   "source": [
    "'''Saving time in the first part'''\n",
    "\n",
    "data = data.iloc[:, 0:5000]\n",
    "#data = data.sample(n=j).reset_index(drop=True)\n",
    "data.shape\n"
   ]
  },
  {
   "cell_type": "code",
   "execution_count": null,
   "metadata": {},
   "outputs": [],
   "source": []
  },
  {
   "cell_type": "code",
   "execution_count": 19,
   "metadata": {},
   "outputs": [
    {
     "ename": "KeyboardInterrupt",
     "evalue": "",
     "output_type": "error",
     "traceback": [
      "\u001b[1;31m---------------------------------------------------------------------------\u001b[0m",
      "\u001b[1;31mKeyboardInterrupt\u001b[0m                         Traceback (most recent call last)",
      "\u001b[1;32m<ipython-input-4-6961d3344651>\u001b[0m in \u001b[0;36m<module>\u001b[1;34m\u001b[0m\n\u001b[0;32m      5\u001b[0m \u001b[1;31m#data_complete = data.copy()\u001b[0m\u001b[1;33m\u001b[0m\u001b[1;33m\u001b[0m\u001b[1;33m\u001b[0m\u001b[0m\n\u001b[0;32m      6\u001b[0m \u001b[1;32mfor\u001b[0m \u001b[0mi\u001b[0m \u001b[1;32min\u001b[0m \u001b[0mnp\u001b[0m\u001b[1;33m.\u001b[0m\u001b[0marange\u001b[0m\u001b[1;33m(\u001b[0m\u001b[1;36m19\u001b[0m\u001b[1;33m,\u001b[0m\u001b[0mdata\u001b[0m\u001b[1;33m.\u001b[0m\u001b[0mshape\u001b[0m\u001b[1;33m[\u001b[0m\u001b[1;36m1\u001b[0m\u001b[1;33m]\u001b[0m\u001b[1;33m)\u001b[0m\u001b[1;33m:\u001b[0m\u001b[1;33m\u001b[0m\u001b[1;33m\u001b[0m\u001b[0m\n\u001b[1;32m----> 7\u001b[1;33m     \u001b[0mdata\u001b[0m\u001b[1;33m.\u001b[0m\u001b[0miloc\u001b[0m\u001b[1;33m[\u001b[0m\u001b[1;33m:\u001b[0m\u001b[1;33m,\u001b[0m\u001b[0mi\u001b[0m\u001b[1;33m]\u001b[0m \u001b[1;33m=\u001b[0m \u001b[0mnp\u001b[0m\u001b[1;33m.\u001b[0m\u001b[0mlog\u001b[0m\u001b[1;33m(\u001b[0m\u001b[0mdata\u001b[0m\u001b[1;33m.\u001b[0m\u001b[0miloc\u001b[0m\u001b[1;33m[\u001b[0m\u001b[1;33m:\u001b[0m\u001b[1;33m,\u001b[0m\u001b[0mi\u001b[0m\u001b[1;33m]\u001b[0m\u001b[1;33m+\u001b[0m\u001b[1;36m1\u001b[0m\u001b[1;33m)\u001b[0m\u001b[1;33m\u001b[0m\u001b[1;33m\u001b[0m\u001b[0m\n\u001b[0m",
      "\u001b[1;32m~\\Anaconda3\\envs\\py37\\lib\\site-packages\\pandas\\core\\indexing.py\u001b[0m in \u001b[0;36m__setitem__\u001b[1;34m(self, key, value)\u001b[0m\n\u001b[0;32m    188\u001b[0m             \u001b[0mkey\u001b[0m \u001b[1;33m=\u001b[0m \u001b[0mcom\u001b[0m\u001b[1;33m.\u001b[0m\u001b[0mapply_if_callable\u001b[0m\u001b[1;33m(\u001b[0m\u001b[0mkey\u001b[0m\u001b[1;33m,\u001b[0m \u001b[0mself\u001b[0m\u001b[1;33m.\u001b[0m\u001b[0mobj\u001b[0m\u001b[1;33m)\u001b[0m\u001b[1;33m\u001b[0m\u001b[1;33m\u001b[0m\u001b[0m\n\u001b[0;32m    189\u001b[0m         \u001b[0mindexer\u001b[0m \u001b[1;33m=\u001b[0m \u001b[0mself\u001b[0m\u001b[1;33m.\u001b[0m\u001b[0m_get_setitem_indexer\u001b[0m\u001b[1;33m(\u001b[0m\u001b[0mkey\u001b[0m\u001b[1;33m)\u001b[0m\u001b[1;33m\u001b[0m\u001b[1;33m\u001b[0m\u001b[0m\n\u001b[1;32m--> 190\u001b[1;33m         \u001b[0mself\u001b[0m\u001b[1;33m.\u001b[0m\u001b[0m_setitem_with_indexer\u001b[0m\u001b[1;33m(\u001b[0m\u001b[0mindexer\u001b[0m\u001b[1;33m,\u001b[0m \u001b[0mvalue\u001b[0m\u001b[1;33m)\u001b[0m\u001b[1;33m\u001b[0m\u001b[1;33m\u001b[0m\u001b[0m\n\u001b[0m\u001b[0;32m    191\u001b[0m \u001b[1;33m\u001b[0m\u001b[0m\n\u001b[0;32m    192\u001b[0m     \u001b[1;32mdef\u001b[0m \u001b[0m_validate_key\u001b[0m\u001b[1;33m(\u001b[0m\u001b[0mself\u001b[0m\u001b[1;33m,\u001b[0m \u001b[0mkey\u001b[0m\u001b[1;33m,\u001b[0m \u001b[0maxis\u001b[0m\u001b[1;33m)\u001b[0m\u001b[1;33m:\u001b[0m\u001b[1;33m\u001b[0m\u001b[1;33m\u001b[0m\u001b[0m\n",
      "\u001b[1;32m~\\Anaconda3\\envs\\py37\\lib\\site-packages\\pandas\\core\\indexing.py\u001b[0m in \u001b[0;36m_setitem_with_indexer\u001b[1;34m(self, indexer, value)\u001b[0m\n\u001b[0;32m    305\u001b[0m \u001b[1;33m\u001b[0m\u001b[0m\n\u001b[0;32m    306\u001b[0m         \u001b[1;31m# maybe partial set\u001b[0m\u001b[1;33m\u001b[0m\u001b[1;33m\u001b[0m\u001b[1;33m\u001b[0m\u001b[0m\n\u001b[1;32m--> 307\u001b[1;33m         \u001b[0mtake_split_path\u001b[0m \u001b[1;33m=\u001b[0m \u001b[0mself\u001b[0m\u001b[1;33m.\u001b[0m\u001b[0mobj\u001b[0m\u001b[1;33m.\u001b[0m\u001b[0m_is_mixed_type\u001b[0m\u001b[1;33m\u001b[0m\u001b[1;33m\u001b[0m\u001b[0m\n\u001b[0m\u001b[0;32m    308\u001b[0m \u001b[1;33m\u001b[0m\u001b[0m\n\u001b[0;32m    309\u001b[0m         \u001b[1;31m# if there is only one block/type, still have to take split path\u001b[0m\u001b[1;33m\u001b[0m\u001b[1;33m\u001b[0m\u001b[1;33m\u001b[0m\u001b[0m\n",
      "\u001b[1;32m~\\Anaconda3\\envs\\py37\\lib\\site-packages\\pandas\\core\\generic.py\u001b[0m in \u001b[0;36m_is_mixed_type\u001b[1;34m(self)\u001b[0m\n\u001b[0;32m   5163\u001b[0m     \u001b[1;32mdef\u001b[0m \u001b[0m_is_mixed_type\u001b[0m\u001b[1;33m(\u001b[0m\u001b[0mself\u001b[0m\u001b[1;33m)\u001b[0m\u001b[1;33m:\u001b[0m\u001b[1;33m\u001b[0m\u001b[1;33m\u001b[0m\u001b[0m\n\u001b[0;32m   5164\u001b[0m         \u001b[0mf\u001b[0m \u001b[1;33m=\u001b[0m \u001b[1;32mlambda\u001b[0m\u001b[1;33m:\u001b[0m \u001b[0mself\u001b[0m\u001b[1;33m.\u001b[0m\u001b[0m_data\u001b[0m\u001b[1;33m.\u001b[0m\u001b[0mis_mixed_type\u001b[0m\u001b[1;33m\u001b[0m\u001b[1;33m\u001b[0m\u001b[0m\n\u001b[1;32m-> 5165\u001b[1;33m         \u001b[1;32mreturn\u001b[0m \u001b[0mself\u001b[0m\u001b[1;33m.\u001b[0m\u001b[0m_protect_consolidate\u001b[0m\u001b[1;33m(\u001b[0m\u001b[0mf\u001b[0m\u001b[1;33m)\u001b[0m\u001b[1;33m\u001b[0m\u001b[1;33m\u001b[0m\u001b[0m\n\u001b[0m\u001b[0;32m   5166\u001b[0m \u001b[1;33m\u001b[0m\u001b[0m\n\u001b[0;32m   5167\u001b[0m     \u001b[1;33m@\u001b[0m\u001b[0mproperty\u001b[0m\u001b[1;33m\u001b[0m\u001b[1;33m\u001b[0m\u001b[0m\n",
      "\u001b[1;32m~\\Anaconda3\\envs\\py37\\lib\\site-packages\\pandas\\core\\generic.py\u001b[0m in \u001b[0;36m_protect_consolidate\u001b[1;34m(self, f)\u001b[0m\n\u001b[0;32m   5125\u001b[0m         \"\"\"\n\u001b[0;32m   5126\u001b[0m         \u001b[0mblocks_before\u001b[0m \u001b[1;33m=\u001b[0m \u001b[0mlen\u001b[0m\u001b[1;33m(\u001b[0m\u001b[0mself\u001b[0m\u001b[1;33m.\u001b[0m\u001b[0m_data\u001b[0m\u001b[1;33m.\u001b[0m\u001b[0mblocks\u001b[0m\u001b[1;33m)\u001b[0m\u001b[1;33m\u001b[0m\u001b[1;33m\u001b[0m\u001b[0m\n\u001b[1;32m-> 5127\u001b[1;33m         \u001b[0mresult\u001b[0m \u001b[1;33m=\u001b[0m \u001b[0mf\u001b[0m\u001b[1;33m(\u001b[0m\u001b[1;33m)\u001b[0m\u001b[1;33m\u001b[0m\u001b[1;33m\u001b[0m\u001b[0m\n\u001b[0m\u001b[0;32m   5128\u001b[0m         \u001b[1;32mif\u001b[0m \u001b[0mlen\u001b[0m\u001b[1;33m(\u001b[0m\u001b[0mself\u001b[0m\u001b[1;33m.\u001b[0m\u001b[0m_data\u001b[0m\u001b[1;33m.\u001b[0m\u001b[0mblocks\u001b[0m\u001b[1;33m)\u001b[0m \u001b[1;33m!=\u001b[0m \u001b[0mblocks_before\u001b[0m\u001b[1;33m:\u001b[0m\u001b[1;33m\u001b[0m\u001b[1;33m\u001b[0m\u001b[0m\n\u001b[0;32m   5129\u001b[0m             \u001b[0mself\u001b[0m\u001b[1;33m.\u001b[0m\u001b[0m_clear_item_cache\u001b[0m\u001b[1;33m(\u001b[0m\u001b[1;33m)\u001b[0m\u001b[1;33m\u001b[0m\u001b[1;33m\u001b[0m\u001b[0m\n",
      "\u001b[1;32m~\\Anaconda3\\envs\\py37\\lib\\site-packages\\pandas\\core\\generic.py\u001b[0m in \u001b[0;36m<lambda>\u001b[1;34m()\u001b[0m\n\u001b[0;32m   5162\u001b[0m     \u001b[1;33m@\u001b[0m\u001b[0mproperty\u001b[0m\u001b[1;33m\u001b[0m\u001b[1;33m\u001b[0m\u001b[0m\n\u001b[0;32m   5163\u001b[0m     \u001b[1;32mdef\u001b[0m \u001b[0m_is_mixed_type\u001b[0m\u001b[1;33m(\u001b[0m\u001b[0mself\u001b[0m\u001b[1;33m)\u001b[0m\u001b[1;33m:\u001b[0m\u001b[1;33m\u001b[0m\u001b[1;33m\u001b[0m\u001b[0m\n\u001b[1;32m-> 5164\u001b[1;33m         \u001b[0mf\u001b[0m \u001b[1;33m=\u001b[0m \u001b[1;32mlambda\u001b[0m\u001b[1;33m:\u001b[0m \u001b[0mself\u001b[0m\u001b[1;33m.\u001b[0m\u001b[0m_data\u001b[0m\u001b[1;33m.\u001b[0m\u001b[0mis_mixed_type\u001b[0m\u001b[1;33m\u001b[0m\u001b[1;33m\u001b[0m\u001b[0m\n\u001b[0m\u001b[0;32m   5165\u001b[0m         \u001b[1;32mreturn\u001b[0m \u001b[0mself\u001b[0m\u001b[1;33m.\u001b[0m\u001b[0m_protect_consolidate\u001b[0m\u001b[1;33m(\u001b[0m\u001b[0mf\u001b[0m\u001b[1;33m)\u001b[0m\u001b[1;33m\u001b[0m\u001b[1;33m\u001b[0m\u001b[0m\n\u001b[0;32m   5166\u001b[0m \u001b[1;33m\u001b[0m\u001b[0m\n",
      "\u001b[1;32m~\\Anaconda3\\envs\\py37\\lib\\site-packages\\pandas\\core\\internals\\managers.py\u001b[0m in \u001b[0;36mis_mixed_type\u001b[1;34m(self)\u001b[0m\n\u001b[0;32m    605\u001b[0m     \u001b[1;32mdef\u001b[0m \u001b[0mis_mixed_type\u001b[0m\u001b[1;33m(\u001b[0m\u001b[0mself\u001b[0m\u001b[1;33m)\u001b[0m\u001b[1;33m:\u001b[0m\u001b[1;33m\u001b[0m\u001b[1;33m\u001b[0m\u001b[0m\n\u001b[0;32m    606\u001b[0m         \u001b[1;31m# Warning, consolidation needs to get checked upstairs\u001b[0m\u001b[1;33m\u001b[0m\u001b[1;33m\u001b[0m\u001b[1;33m\u001b[0m\u001b[0m\n\u001b[1;32m--> 607\u001b[1;33m         \u001b[0mself\u001b[0m\u001b[1;33m.\u001b[0m\u001b[0m_consolidate_inplace\u001b[0m\u001b[1;33m(\u001b[0m\u001b[1;33m)\u001b[0m\u001b[1;33m\u001b[0m\u001b[1;33m\u001b[0m\u001b[0m\n\u001b[0m\u001b[0;32m    608\u001b[0m         \u001b[1;32mreturn\u001b[0m \u001b[0mlen\u001b[0m\u001b[1;33m(\u001b[0m\u001b[0mself\u001b[0m\u001b[1;33m.\u001b[0m\u001b[0mblocks\u001b[0m\u001b[1;33m)\u001b[0m \u001b[1;33m>\u001b[0m \u001b[1;36m1\u001b[0m\u001b[1;33m\u001b[0m\u001b[1;33m\u001b[0m\u001b[0m\n\u001b[0;32m    609\u001b[0m \u001b[1;33m\u001b[0m\u001b[0m\n",
      "\u001b[1;32m~\\Anaconda3\\envs\\py37\\lib\\site-packages\\pandas\\core\\internals\\managers.py\u001b[0m in \u001b[0;36m_consolidate_inplace\u001b[1;34m(self)\u001b[0m\n\u001b[0;32m    930\u001b[0m             \u001b[0mself\u001b[0m\u001b[1;33m.\u001b[0m\u001b[0m_is_consolidated\u001b[0m \u001b[1;33m=\u001b[0m \u001b[1;32mTrue\u001b[0m\u001b[1;33m\u001b[0m\u001b[1;33m\u001b[0m\u001b[0m\n\u001b[0;32m    931\u001b[0m             \u001b[0mself\u001b[0m\u001b[1;33m.\u001b[0m\u001b[0m_known_consolidated\u001b[0m \u001b[1;33m=\u001b[0m \u001b[1;32mTrue\u001b[0m\u001b[1;33m\u001b[0m\u001b[1;33m\u001b[0m\u001b[0m\n\u001b[1;32m--> 932\u001b[1;33m             \u001b[0mself\u001b[0m\u001b[1;33m.\u001b[0m\u001b[0m_rebuild_blknos_and_blklocs\u001b[0m\u001b[1;33m(\u001b[0m\u001b[1;33m)\u001b[0m\u001b[1;33m\u001b[0m\u001b[1;33m\u001b[0m\u001b[0m\n\u001b[0m\u001b[0;32m    933\u001b[0m \u001b[1;33m\u001b[0m\u001b[0m\n\u001b[0;32m    934\u001b[0m     \u001b[1;32mdef\u001b[0m \u001b[0mget\u001b[0m\u001b[1;33m(\u001b[0m\u001b[0mself\u001b[0m\u001b[1;33m,\u001b[0m \u001b[0mitem\u001b[0m\u001b[1;33m,\u001b[0m \u001b[0mfastpath\u001b[0m\u001b[1;33m=\u001b[0m\u001b[1;32mTrue\u001b[0m\u001b[1;33m)\u001b[0m\u001b[1;33m:\u001b[0m\u001b[1;33m\u001b[0m\u001b[1;33m\u001b[0m\u001b[0m\n",
      "\u001b[1;32m~\\Anaconda3\\envs\\py37\\lib\\site-packages\\pandas\\core\\internals\\managers.py\u001b[0m in \u001b[0;36m_rebuild_blknos_and_blklocs\u001b[1;34m(self)\u001b[0m\n\u001b[0;32m    190\u001b[0m         \u001b[0mnew_blknos\u001b[0m \u001b[1;33m=\u001b[0m \u001b[0mnp\u001b[0m\u001b[1;33m.\u001b[0m\u001b[0mempty\u001b[0m\u001b[1;33m(\u001b[0m\u001b[0mself\u001b[0m\u001b[1;33m.\u001b[0m\u001b[0mshape\u001b[0m\u001b[1;33m[\u001b[0m\u001b[1;36m0\u001b[0m\u001b[1;33m]\u001b[0m\u001b[1;33m,\u001b[0m \u001b[0mdtype\u001b[0m\u001b[1;33m=\u001b[0m\u001b[0mnp\u001b[0m\u001b[1;33m.\u001b[0m\u001b[0mint64\u001b[0m\u001b[1;33m)\u001b[0m\u001b[1;33m\u001b[0m\u001b[1;33m\u001b[0m\u001b[0m\n\u001b[0;32m    191\u001b[0m         \u001b[0mnew_blklocs\u001b[0m \u001b[1;33m=\u001b[0m \u001b[0mnp\u001b[0m\u001b[1;33m.\u001b[0m\u001b[0mempty\u001b[0m\u001b[1;33m(\u001b[0m\u001b[0mself\u001b[0m\u001b[1;33m.\u001b[0m\u001b[0mshape\u001b[0m\u001b[1;33m[\u001b[0m\u001b[1;36m0\u001b[0m\u001b[1;33m]\u001b[0m\u001b[1;33m,\u001b[0m \u001b[0mdtype\u001b[0m\u001b[1;33m=\u001b[0m\u001b[0mnp\u001b[0m\u001b[1;33m.\u001b[0m\u001b[0mint64\u001b[0m\u001b[1;33m)\u001b[0m\u001b[1;33m\u001b[0m\u001b[1;33m\u001b[0m\u001b[0m\n\u001b[1;32m--> 192\u001b[1;33m         \u001b[0mnew_blknos\u001b[0m\u001b[1;33m.\u001b[0m\u001b[0mfill\u001b[0m\u001b[1;33m(\u001b[0m\u001b[1;33m-\u001b[0m\u001b[1;36m1\u001b[0m\u001b[1;33m)\u001b[0m\u001b[1;33m\u001b[0m\u001b[1;33m\u001b[0m\u001b[0m\n\u001b[0m\u001b[0;32m    193\u001b[0m         \u001b[0mnew_blklocs\u001b[0m\u001b[1;33m.\u001b[0m\u001b[0mfill\u001b[0m\u001b[1;33m(\u001b[0m\u001b[1;33m-\u001b[0m\u001b[1;36m1\u001b[0m\u001b[1;33m)\u001b[0m\u001b[1;33m\u001b[0m\u001b[1;33m\u001b[0m\u001b[0m\n\u001b[0;32m    194\u001b[0m \u001b[1;33m\u001b[0m\u001b[0m\n",
      "\u001b[1;31mKeyboardInterrupt\u001b[0m: "
     ]
    }
   ],
   "source": [
    "'''Organizing columns names'''\n",
    "lr = data.columns[[2,4,5,6,7,8,9,10,11,12,13,14,15,16,17,18]]\n",
    "y = data.columns[3]\n",
    "remove = data.columns[[0,1]]\n",
    "#data_complete = data.copy()\n",
    "for i in np.arange(19,data.shape[1]):\n",
    "    data.iloc[:,i] = np.log(data.iloc[:,i]+1)"
   ]
  },
  {
   "cell_type": "code",
<<<<<<< HEAD
   "execution_count": 20,
=======
   "execution_count": null,
>>>>>>> e1fa92e2addf188fbd73fa64fcb3cf80669830ca
   "metadata": {},
   "outputs": [],
   "source": [
    "'''\n",
    "Class to work with model parameters\n",
    "I thought about using the default values as chain starting values, \n",
    "however, i encouter problems to change the size of arrays and matrices \n",
    "according with my currently k\n",
    "'''\n",
    "class parameters:\n",
    "    def __init__(self, latent_v,latent_cj,latent_sk,latent_ev,latent_phi ,latent_tht, prediction):\n",
    "        self.ln = latent_v #array with parameters that are only one number [0-c0,1-gamma0]\n",
    "        self.la_cj = latent_cj #aaray J\n",
    "        self.la_sk = latent_sk #array K\n",
    "        self.la_ev = latent_ev #array V\n",
    "        self.lm_phi = latent_phi #matrix (jk)\n",
    "        self.lm_tht = latent_tht #matrix  (kv)      \n",
    "        self.p = prediction #array [intercept, gender, 15 cancer types, k genes]\n"
   ]
  },
  {
   "cell_type": "code",
<<<<<<< HEAD
   "execution_count": 21,
=======
   "execution_count": null,
>>>>>>> e1fa92e2addf188fbd73fa64fcb3cf80669830ca
   "metadata": {},
   "outputs": [],
   "source": [
    "'''\n",
    "Proposal distribution\n",
    "NEED TO UPDATE\n",
    "\n",
    "'''\n",
    "\n",
    "#Proposal values for the parameters related to the factor model \n",
    "#Repete the parameters related to prediction and only propose\n",
    "#new values for the factor analysys part\n",
    "#output is the parameters class \n",
    "def proposal_f(current):\n",
    "    new = parameters(np.random.normal(current.ln,0.05), \n",
    "                     np.random.normal(current.la_cj,0.1),\n",
    "                     np.random.normal(current.la_sk,0.1),\n",
    "                     np.random.normal(current.la_ev,0.05),\n",
    "                     np.random.normal(current.lm_phi,0.000005), #remmeber that lm_phi sum up 1 in the line (genes)\n",
    "                     np.random.normal(current.lm_tht,1), #remember the average value is 7.42\n",
    "                     current.p)\n",
    "    #phi and tht can't be negative \n",
    "    new.lm_phi[new.lm_phi<0] = 0.0000001 #this number needs to be smaller \n",
    "    col_sums = new.lm_phi.sum(axis=0)\n",
    "    new.lm_phi = new.lm_phi / col_sums[np.newaxis,:]\n",
    "    new.lm_tht[new.lm_tht<0]=0\n",
    "    new.lm_tht = new.lm_tht+0.000001\n",
    "    \n",
    "    return new\n",
    "\n",
    "#Proposal values for the parameters related to logistic regression \n",
    "#Repete the parameters related to factor analysis part and propose\n",
    "#new values for the logistc regression parameters \n",
    "#output is the parameters class \n",
    "def proposal_p(current):\n",
    "    new = parameters(current.ln,current.la_cj ,current.la_sk, #current.la_pj, \n",
    "                     current.la_ev, current.lm_phi, current.lm_tht, \n",
    "                     np.random.normal(current.p,0.05))\n",
    "    return new"
   ]
  },
  {
   "cell_type": "code",
<<<<<<< HEAD
   "execution_count": 22,
=======
   "execution_count": null,
>>>>>>> e1fa92e2addf188fbd73fa64fcb3cf80669830ca
   "metadata": {},
   "outputs": [],
   "source": [
    "'''Ratio functions'''\n",
    "def ration_f(p_new,p_cur, data_F,k):\n",
    "    '''Priori Ration'''\n",
    "    #log(1680)=7.42\n",
    "    #J is samples and V is genes\n",
    "    j = data_F.shape[0]\n",
    "    v = data_F.shape[1]\n",
    "    #A: phi_jk~Dir(eta_j)\n",
    "    #print(loggamma(np.exp(np.sum(np.log(p_cur.la_ev)))),\n",
    "    #       loggamma(np.exp(np.sum(np.log(p_new.la_ev)))))\n",
    "    A0 = k*(loggamma(np.exp(np.sum(np.log(p_cur.la_ev))))-\n",
    "           loggamma(np.exp(np.sum(np.log(p_new.la_ev)))))\n",
    "    A1 = k*(np.sum(np.log(gamma(p_new.la_ev)))-np.sum(np.log(gamma(p_cur.la_ev))))\n",
    "    A2 = np.matmul((p_new.la_ev-1),np.log(p_new.lm_phi)).sum()-np.matmul((p_cur.la_ev-1),np.log(p_cur.lm_phi)).sum()\n",
    "    #print('A', p_cur.la_ev[0:5],np.log(p_cur.la_ev)[0:5],np.sum(np.log(p_cur.la_ev)))\n",
    "    #B: eta_j~Gamma(a0,b0)\n",
    "    a0 = 1/(2*v)\n",
    "    b0 = 1/(2*v)\n",
    "    B = (a0-1)*(np.log(p_new.la_ev)-np.log(p_cur.la_ev)).sum()+(p_cur.la_ev-p_new.la_ev).sum()/b0\n",
    "    \n",
    "    #C: theta_kl~Gamma(sk,cj)\n",
    "    C0 = j*(loggamma(p_cur.la_sk).sum()-loggamma(p_new.la_sk).sum())+(\n",
    "    p_cur.la_sk.sum()*np.log(p_cur.la_cj).sum()-p_new.la_sk.sum()*np.log(p_new.la_cj).sum())\n",
    "    '''\n",
    "    print('c1',np.matmul(p_new.la_sk-1,np.log(p_new.lm_tht).sum(axis=1)),\n",
    "          np.matmul(p_cur.la_sk-1,np.log(p_cur.lm_tht).sum(axis=1)))\n",
    "    if math.isnan(np.matmul(p_new.la_sk-1,np.log(p_new.lm_tht).sum(axis=1))):\n",
    "        print('print something')\n",
    "        for i in np.arange(0,len(np.log(p_new.lm_tht).sum(axis=1))):\n",
    "            if math.isnan(np.log(p_new.lm_tht).sum(axis=1)[i]):\n",
    "                print('almost there')\n",
    "                for j in np.arange(0,len(np.log(p_new.lm_tht))):\n",
    "                    print(j,np.log(p_new.lm_tht[i,j]))\n",
    "                    if math.isnan(np.log(p_new.lm_tht[i,j])):\n",
    "                        print('\\n','value',p_new.lm_tht[i,j],'\\n')\n",
    "    '''            \n",
    "    C1 = np.matmul(p_new.la_sk-1,np.log(p_new.lm_tht).sum(axis=1))-np.matmul(\n",
    "        p_cur.la_sk-1,np.log(p_cur.lm_tht).sum(axis=1))\n",
    "    C2 = np.divide(p_cur.lm_tht.sum(axis=0),p_cur.la_cj).sum()-np.divide(p_new.lm_tht.sum(axis=0),p_new.la_cj).sum()\n",
    "    \n",
    "    #D: sk~Gamma(gamma0,c0), gamma0 = c0 = (v*averageExpression)^0.5\n",
    "    average4 = np.sqrt(np.sqrt(v*7.42))\n",
    "    gamma0 = average4\n",
    "    c0 = average4\n",
    "    D = (gamma0-1)*(np.log(p_new.la_sk)-np.log(p_cur.la_sk)).sum()+(p_cur.la_sk-p_new.la_sk).sum()/c0\n",
    "    \n",
    "    #E: Cj~Gamma(a1,b1)\n",
    "    a1 = average4\n",
    "    b1 = average4\n",
    "    E = (a1-1)*(np.log(p_new.la_cj)-np.log(p_cur.la_cj)).sum()+(p_cur.la_cj-p_new.la_cj).sum()/b1\n",
    "    \n",
    "    #F: gamma0~Gamma(a2,b2)\n",
    "    average8 = np.sqrt(average4)\n",
    "    a2 = average8\n",
    "    b2 = average8\n",
    "    F = (a2-1)*(np.log(p_new.ln[1])-np.log(p_cur.ln[1]))+(p_cur.ln[1]-p_new.ln[1])/b2\n",
    "    \n",
    "    #G: c0~Gamma(a3,b3)\n",
    "    a3 = average8\n",
    "    b3 = average8\n",
    "    G = (a3-1)*(np.log(p_new.ln[0])-np.log(p_cur.ln[0]))+(p_cur.ln[0]-p_new.ln[0])/b3\n",
    "    '''Likelihood'''\n",
    "    #I: n_vj~Poisson(phi_vk theta_kj)\n",
    "    I0 = np.transpose(np.log(np.matmul(p_new.lm_phi,p_new.lm_tht))-np.log(np.matmul(p_cur.lm_phi,p_cur.lm_tht)))\n",
    "    #print(I0.shape,I0[0:5],data_F.head())\n",
    "    I1 = np.multiply(data_F.as_matrix(),I0).sum()\n",
    "    I2 = (np.matmul(p_cur.lm_phi,p_cur.lm_tht)-np.matmul(p_new.lm_phi,p_new.lm_tht)).sum()\n",
    "    #print('ratio - F',\"%0.2f\" % A0,\"%0.2f\" % A1,\"%0.2f\" % A2,\"%0.2f\" % B,\"%0.2f\" % C0,\n",
    "    #      \"%0.2f\" % C1,\"%0.2f\" % C2,\"%0.2f\" % D,\"%0.2f\" % E, \"%0.2f\" % F,\"%0.2f\" % G,\n",
    "    #     \"%0.2f\" % I1,\"%0.2f\" % I2,'end')\n",
    "    return (A0+A1+A2+B+C0+C1+C2+D+E+F+G+I1+I2)"
   ]
  },
  {
   "cell_type": "code",
<<<<<<< HEAD
   "execution_count": 23,
=======
   "execution_count": null,
>>>>>>> e1fa92e2addf188fbd73fa64fcb3cf80669830ca
   "metadata": {},
   "outputs": [],
   "source": [
    "def ratio_p(p_new,p_cur, data_P,k,y):\n",
    "    sigma0 = 5\n",
    "    sigma = 2\n",
    "    mu0 = -len(p_new.p)\n",
    "    mu = 1\n",
    "    #H: beta~normal(mu,sigma2)\n",
    "    H0 = (1/(sigma0*sigma0))*((p_cur.p[0]-mu0)*(p_cur.p[0]-mu0)-(p_new.p[0]-mu0)*(p_new.p[0]-mu0))*0.5\n",
    "    H1 = (np.multiply((p_cur.p-mu),(p_cur.p-mu))-np.multiply((p_new.p-mu),(p_new.p-mu))).sum()\n",
    "    H1 = H1 - (p_cur.p[0]-mu)*(p_cur.p[0]-mu)+(p_new.p[0]-mu)*(p_new.p[0]-mu)\n",
    "    H1 = (H1*(len(p_new.p)-1)/sigma)*0.5\n",
    "    \n",
    "    #J: y~Log(xbeta)\n",
    "    data_P = data_P.as_matrix()\n",
    "    #print('dataP inside ratio',data_P[0:5])\n",
    "    #data_P = np.append(np.array(np.repeat(1,data_P.shape[0])), data_P, axis=1)\n",
    "    data_P = np.hstack((np.array(np.repeat(1,data_P.shape[0])).reshape(data_P.shape[0],1),data_P))\n",
    "    data_P = np.hstack((data_P,np.transpose(p_cur.lm_tht)))\n",
    "    #print('\\n lm_tht',np.transpose(p_cur.lm_tht))\n",
    "    xw_new = np.dot(data_P,p_new.p)\n",
    "    xw_cur = np.dot(data_P,p_cur.p)\n",
    "    J = (-np.log(1+np.exp(xw_new))+\n",
    "          np.dot(y,xw_new)).sum()/((-np.log(1+np.exp(xw_cur))+\n",
    "                                                        np.dot(y,xw_cur))).sum()\n",
    "    #print('ratio - P',\"%0.2f\" % H0,\"%0.2f\" % H1,\"%0.2f\" % J)\n",
    "    return (H0+H1+J)"
   ]
  },
  {
   "cell_type": "code",
<<<<<<< HEAD
   "execution_count": 24,
=======
   "execution_count": null,
>>>>>>> e1fa92e2addf188fbd73fa64fcb3cf80669830ca
   "metadata": {},
   "outputs": [],
   "source": [
    "'''\n",
    "Creatint the MCMC for the model\n",
    "MCMC(\n",
    "startvalue = initial value for the parameters\n",
    "iterations = \n",
    "data = complete data with all columns \n",
    "k = number of latent variables\n",
    "remove, lr, y = columns names to be removed, presente only in the logistic regression part and y\n",
    ")\n",
    "'''\n",
    "def MCMC(startvalue, iterations, data,k, lr,y):\n",
    "    #print('all',data.head())\n",
    "    '''Splitting dataset'''\n",
    "    data_P = data[lr]\n",
    "    #print('\\n P',data_P.head())\n",
    "    data_F = data.drop(lr,axis = 1)\n",
    "    data_F = data_F.drop(y,axis = 1)\n",
    "    y = data[y]\n",
    "    a_P = 0\n",
    "    a_F = 0\n",
    "    '''\n",
    "    Initialization of the chains\n",
    "    Note: chain_f has elements from chain_p and vice-versa. Take care to not use incorrectly\n",
    "    '''     \n",
    "    chain_f = []\n",
    "    chain_p = []\n",
    "    chain_f.append(startvalue)\n",
    "    chain_p.append(startvalue)\n",
    "     \n",
    "    for i in np.arange(1,iterations):\n",
    "        '''Factor Analysis - Latent Features'''\n",
    "        #use chain_f or chain_p don't make difference here because\n",
    "        #the only parameters changed are the logistic regression and \n",
    "        #they aren't used in the factor analysis part. \n",
    "        param_new_f = proposal_f(chain_f[i-1])\n",
    "        param_cur_f = chain_f[i-1] \n",
    "        if i%10 == 0: \n",
    "            a = a_F*100/i\n",
    "            b = a_P*100/i\n",
    "            print('iteration ',i,' acceptance ', \"%0.2f\" % a,'-', \"%0.2f\" % b)\n",
    "        #prob_f = np.exp(posterior(param_new_f,data_F,data_P,y,k)-posterior(param_cur_f,data_F,data_P,y,k))\n",
    "        prob_f = np.exp(ration_f(param_new_f,param_cur_f, data_F,k))\n",
    "        if np.random.uniform(0,1,1)<prob_f:\n",
    "            chain_f.append(param_new_f)\n",
    "            a_F+=1\n",
    "        else:\n",
    "            chain_f.append(param_cur_f) \n",
    "        '''Logistic Regression - Prediction'''\n",
    "        #chain_f[i] has the most update latent parameters and haven't changed the \n",
    "        #prediction parameters from [i-1] iteration\n",
    "        param_new_p = proposal_p(chain_f[i-1])\n",
    "        param_cur_p = chain_f[i-1]\n",
    "        #print(param_new_p.p[0:20],param_cur_p.p[0:20])\n",
    "        prob_p = np.exp(ratio_p(param_new_p,param_cur_p,data_P,k,y))\n",
    "        print('F: ',prob_f, 'P: ',prob_p,'\\n')\n",
    "        if np.random.uniform(0,1,1)<prob_p:\n",
    "            chain_p.append(param_new_p)\n",
    "            a_P+=1\n",
    "        else:\n",
    "            chain_p.append(param_cur_p)     \n",
    "\n",
    "    return chain_p, chain_f, a_P, a_F\n",
    "        \n",
    "        "
   ]
  },
  {
   "cell_type": "code",
<<<<<<< HEAD
   "execution_count": 25,
=======
   "execution_count": null,
>>>>>>> e1fa92e2addf188fbd73fa64fcb3cf80669830ca
   "metadata": {},
   "outputs": [],
   "source": [
    "'''Non informative prioris: dirichlet has only 1, gamma distribution with 1 average, etc'''\n",
    "#UPDATE NUMBERS ACCORDING WITH POISSON AND LOG(N)\n",
    "aux = len(lr)+1\n",
    "data = data.drop(remove,axis = 1)\n",
    "v = (data.shape[1]-aux)\n",
    "j = data.shape[0]\n",
    "start = parameters([1.65,1.65], #ln [0-c0,1-gamma0]\n",
    "                   np.repeat(2.72,j), #la_cj\n",
    "                   np.repeat(2.72,k), #la_sk\n",
    "                   np.repeat(1,v), #la_ev\n",
    "                   np.repeat(1/(data.shape[1]-aux),(data.shape[1]-aux)*k).reshape((data.shape[1]-aux),k),#lm_phi v x k \n",
    "                   np.repeat(7.42,(data.shape[0])*k).reshape(k,(data.shape[0])), #lm_theta k x j\n",
    "                   np.concatenate(([-(k*7.42)], np.repeat(1,k+aux-1))))  #p, k+aux-1  because intercept is already counted\n",
    "\n"
   ]
  },
  {
   "cell_type": "code",
   "execution_count": null,
   "metadata": {},
   "outputs": [],
   "source": []
  },
  {
   "cell_type": "code",
<<<<<<< HEAD
   "execution_count": 26,
   "metadata": {},
   "outputs": [
    {
     "name": "stderr",
     "output_type": "stream",
     "text": [
      "C:\\Users\\raoki\\AppData\\Local\\Continuum\\anaconda3\\envs\\py37\\lib\\site-packages\\ipykernel_launcher.py:51: FutureWarning: Method .as_matrix will be removed in a future version. Use .values instead.\n",
      "C:\\Users\\raoki\\AppData\\Local\\Continuum\\anaconda3\\envs\\py37\\lib\\site-packages\\ipykernel_launcher.py:40: RuntimeWarning: overflow encountered in exp\n",
      "C:\\Users\\raoki\\AppData\\Local\\Continuum\\anaconda3\\envs\\py37\\lib\\site-packages\\ipykernel_launcher.py:7: RuntimeWarning: overflow encountered in long_scalars\n",
      "  import sys\n",
      "C:\\Users\\raoki\\AppData\\Local\\Continuum\\anaconda3\\envs\\py37\\lib\\site-packages\\ipykernel_launcher.py:9: RuntimeWarning: overflow encountered in long_scalars\n",
      "  if __name__ == '__main__':\n",
      "C:\\Users\\raoki\\AppData\\Local\\Continuum\\anaconda3\\envs\\py37\\lib\\site-packages\\ipykernel_launcher.py:13: FutureWarning: Method .as_matrix will be removed in a future version. Use .values instead.\n",
      "  del sys.path[0]\n",
      "C:\\Users\\raoki\\AppData\\Local\\Continuum\\anaconda3\\envs\\py37\\lib\\site-packages\\ipykernel_launcher.py:19: RuntimeWarning: overflow encountered in exp\n",
      "C:\\Users\\raoki\\AppData\\Local\\Continuum\\anaconda3\\envs\\py37\\lib\\site-packages\\ipykernel_launcher.py:19: RuntimeWarning: invalid value encountered in subtract\n",
      "C:\\Users\\raoki\\AppData\\Local\\Continuum\\anaconda3\\envs\\py37\\lib\\site-packages\\ipykernel_launcher.py:53: RuntimeWarning: invalid value encountered in less\n",
      "C:\\Users\\raoki\\AppData\\Local\\Continuum\\anaconda3\\envs\\py37\\lib\\site-packages\\ipykernel_launcher.py:30: RuntimeWarning: invalid value encountered in log\n",
      "C:\\Users\\raoki\\AppData\\Local\\Continuum\\anaconda3\\envs\\py37\\lib\\site-packages\\ipykernel_launcher.py:41: RuntimeWarning: invalid value encountered in less\n"
     ]
    },
    {
     "name": "stdout",
     "output_type": "stream",
     "text": [
      "iteration  10  acceptance  8.00 - 5.00\n"
     ]
    },
    {
     "name": "stderr",
     "output_type": "stream",
     "text": [
      "C:\\Users\\raoki\\AppData\\Local\\Continuum\\anaconda3\\envs\\py37\\lib\\site-packages\\numpy\\core\\_methods.py:36: RuntimeWarning: invalid value encountered in reduce\n",
      "  return umr_sum(a, axis, dtype, out, keepdims, initial)\n"
     ]
    },
    {
     "name": "stdout",
     "output_type": "stream",
     "text": [
      "iteration  20  acceptance  5.50 - 4.50\n",
      "iteration  30  acceptance  4.00 - 4.00\n",
      "iteration  40  acceptance  3.50 - 3.25\n",
      "iteration  50  acceptance  3.00 - 3.40\n",
      "iteration  60  acceptance  2.50 - 3.00\n",
      "iteration  70  acceptance  2.29 - 2.86\n",
      "iteration  80  acceptance  2.12 - 2.88\n",
      "iteration  90  acceptance  1.89 - 2.89\n",
      "iteration  100  acceptance  1.80 - 2.80\n",
      "iteration  110  acceptance  1.64 - 2.73\n",
      "iteration  120  acceptance  1.50 - 2.75\n",
      "iteration  130  acceptance  1.38 - 2.85\n",
      "iteration  140  acceptance  1.29 - 2.79\n",
      "iteration  150  acceptance  1.27 - 2.80\n",
      "iteration  160  acceptance  1.31 - 2.81\n",
      "iteration  170  acceptance  1.24 - 2.94\n",
      "iteration  180  acceptance  1.22 - 2.83\n",
      "iteration  190  acceptance  1.16 - 2.74\n",
      "iteration  200  acceptance  1.10 - 2.80\n",
      "iteration  210  acceptance  1.05 - 2.81\n",
      "iteration  220  acceptance  1.00 - 2.73\n",
      "iteration  230  acceptance  0.96 - 2.65\n",
      "iteration  240  acceptance  0.92 - 2.75\n",
      "iteration  250  acceptance  0.88 - 2.64\n",
      "iteration  260  acceptance  0.85 - 2.58\n",
      "iteration  270  acceptance  0.81 - 2.48\n",
      "iteration  280  acceptance  0.79 - 2.46\n",
      "iteration  290  acceptance  0.76 - 2.48\n",
      "--- 50.55233955383301 seconds ---\n"
     ]
    }
   ],
   "source": [
    "#data = data.drop(remove,axis=1)\n",
    "#sim = 100\n",
=======
   "execution_count": null,
   "metadata": {},
   "outputs": [],
   "source": [
    "#data = data.drop(remove,axis=1)\n",
>>>>>>> e1fa92e2addf188fbd73fa64fcb3cf80669830ca
    "start_time = time.time()\n",
    "output_p, output_f, acept_P,acept_F = MCMC(start,sim,data,k,lr,y)\n",
    "end_time = time.time() - start_time\n",
    "np.set_printoptions(threshold=50)\n",
    "\n",
    "print(\"--- %s seconds ---\" % (time.time() - start_time))\n",
    "\n",
    "\n",
    "#Don't make sense, some operations must be wrong"
   ]
  },
  {
   "cell_type": "code",
   "execution_count": 27,
   "metadata": {},
<<<<<<< HEAD
   "outputs": [
    {
     "name": "stdout",
     "output_type": "stream",
     "text": [
      "[[2, 2], [3, 3]] [[4, 4], [3, 3]]\n"
     ]
    },
    {
     "data": {
      "text/plain": [
       "array([[8, 8],\n",
       "       [9, 9]])"
      ]
     },
     "execution_count": 27,
     "metadata": {},
     "output_type": "execute_result"
    }
   ],
   "source": [
    "a = [[2,2],[3,3]]\n",
    "b = [[4,4],[3,3]]\n",
    "print(a,b)\n",
    "np.multiply(a,b)"
   ]
=======
   "outputs": [],
   "source": []
>>>>>>> e1fa92e2addf188fbd73fa64fcb3cf80669830ca
  },
  {
   "cell_type": "code",
   "execution_count": 28,
   "metadata": {},
   "outputs": [
    {
     "data": {
      "text/plain": [
       "\"\\n    output_factor_lm_phi = np.concatenate((output_factor_lm_phi,output_f[1].lm_phi),axis = 0)\\n    output_factor_lm_tht = np.concatenate((output_factor_lm_tht,output_f[1].lm_tht),axis = 0)\\n    \\noutput_factor_lm_phi = output_factor_lm_phi.reshape(sim,output_f[0].lm_phi.shape[0]*output_f[0].lm_phi.shape[1])   \\noutput_factor_lm_tht = output_factor_lm_tht.reshape(sim,output_f[0].lm_tht.shape[0]*output_f[0].lm_tht.shape[1])\\n\\nnp.savetxt('Data\\\\output_factor_lm_phi.txt', output_factor_lm_phi, delimiter=',')  \\nnp.savetxt('Data\\\\output_factor_lm_tht.txt', output_factor_lm_tht, delimiter=',')  \\n\""
      ]
     },
     "execution_count": 28,
     "metadata": {},
     "output_type": "execute_result"
    }
   ],
   "source": [
    "'''Organizing outputs'''\n",
    "\n",
    "#TRANSFORM IN A FUNCTION TO STOP HAVE MEMORY PROBLEMS \n",
    "\n",
    "#Logistic Regression Parameters \n",
    "output_logistic = np.concatenate((output_p[0].p,output_p[1].p),axis = 0)\n",
    "#Factor Model parameters\n",
    "output_factor_ln = np.concatenate((output_f[0].ln,output_f[1].ln),axis = 0)\n",
    "output_factor_la_sk = np.concatenate((output_f[0].la_sk,output_f[1].la_sk),axis = 0)\n",
    "#Matrix AxB is saved as a line A*B elements \n",
    "output_factor_lm_phi= np.concatenate((output_f[0].lm_phi,output_f[1].lm_phi),axis = 0)\n",
    "output_factor_lm_tht= np.concatenate((output_f[0].lm_tht,output_f[1].lm_tht),axis = 0)\n",
    "\n",
    "\n",
    "for i in np.arange(2,sim):\n",
    "    output_logistic = np.concatenate((output_logistic,output_p[i].p),axis = 0)\n",
    "    output_factor_ln = np.concatenate((output_factor_ln,output_f[1].ln),axis = 0)\n",
    "    output_factor_la_sk = np.concatenate((output_factor_la_sk,output_f[1].la_sk),axis = 0)\n",
    "\n",
    "output_logistic = output_logistic.reshape(sim,len(output_p[0].p) )    \n",
    "output_factor_ln = output_factor_ln.reshape(sim,len(output_f[0].ln) )\n",
    "output_factor_la_sk = output_factor_la_sk.reshape(sim,len(output_f[0].la_sk) )   \n",
    "\n",
    "np.savetxt('Data\\\\output_logistic.txt', output_logistic, delimiter=',')  \n",
    "np.savetxt('Data\\\\output_factor_ln.txt', output_factor_ln, delimiter=',')  \n",
    "np.savetxt('Data\\\\output_factor_la_sk.txt', output_factor_la_sk, delimiter=',')  \n",
    "\n",
    "'''\n",
    "    output_factor_lm_phi = np.concatenate((output_factor_lm_phi,output_f[1].lm_phi),axis = 0)\n",
    "    output_factor_lm_tht = np.concatenate((output_factor_lm_tht,output_f[1].lm_tht),axis = 0)\n",
    "    \n",
    "output_factor_lm_phi = output_factor_lm_phi.reshape(sim,output_f[0].lm_phi.shape[0]*output_f[0].lm_phi.shape[1])   \n",
    "output_factor_lm_tht = output_factor_lm_tht.reshape(sim,output_f[0].lm_tht.shape[0]*output_f[0].lm_tht.shape[1])\n",
    "\n",
    "np.savetxt('Data\\\\output_factor_lm_phi.txt', output_factor_lm_phi, delimiter=',')  \n",
    "np.savetxt('Data\\\\output_factor_lm_tht.txt', output_factor_lm_tht, delimiter=',')  \n",
    "'''"
   ]
  },
  {
   "cell_type": "code",
   "execution_count": 29,
   "metadata": {},
   "outputs": [],
   "source": [
    "#acceptance and rejection  problem \n",
    "#create a easy way to identify paramerters based on name\n",
    "#test several parameters at once"
   ]
  },
  {
   "cell_type": "code",
   "execution_count": null,
   "metadata": {},
   "outputs": [],
   "source": []
  },
  {
   "cell_type": "code",
   "execution_count": 30,
   "metadata": {},
   "outputs": [
    {
     "ename": "IndexError",
     "evalue": "index 2 is out of bounds for axis 1 with size 2",
     "output_type": "error",
     "traceback": [
      "\u001b[1;31m---------------------------------------------------------------------------\u001b[0m",
      "\u001b[1;31mIndexError\u001b[0m                                Traceback (most recent call last)",
      "\u001b[1;32m<ipython-input-30-5209ce34d2a3>\u001b[0m in \u001b[0;36m<module>\u001b[1;34m\u001b[0m\n\u001b[0;32m     15\u001b[0m \u001b[0mplt\u001b[0m\u001b[1;33m.\u001b[0m\u001b[0msavefig\u001b[0m\u001b[1;33m(\u001b[0m\u001b[1;34m'Data\\\\lr_k.png'\u001b[0m\u001b[1;33m)\u001b[0m\u001b[1;33m\u001b[0m\u001b[1;33m\u001b[0m\u001b[0m\n\u001b[0;32m     16\u001b[0m \u001b[1;33m\u001b[0m\u001b[0m\n\u001b[1;32m---> 17\u001b[1;33m \u001b[0mplt\u001b[0m\u001b[1;33m.\u001b[0m\u001b[0mplot\u001b[0m\u001b[1;33m(\u001b[0m\u001b[0mnp\u001b[0m\u001b[1;33m.\u001b[0m\u001b[0marange\u001b[0m\u001b[1;33m(\u001b[0m\u001b[1;36m0\u001b[0m\u001b[1;33m,\u001b[0m\u001b[0mlen\u001b[0m\u001b[1;33m(\u001b[0m\u001b[0moutput_factor_ln\u001b[0m\u001b[1;33m[\u001b[0m\u001b[1;33m:\u001b[0m\u001b[1;33m,\u001b[0m\u001b[1;36m2\u001b[0m\u001b[1;33m]\u001b[0m\u001b[1;33m)\u001b[0m\u001b[1;33m)\u001b[0m\u001b[1;33m,\u001b[0m\u001b[0moutput_factor_ln\u001b[0m\u001b[1;33m[\u001b[0m\u001b[1;33m:\u001b[0m\u001b[1;33m,\u001b[0m\u001b[1;36m2\u001b[0m\u001b[1;33m]\u001b[0m\u001b[1;33m,\u001b[0m \u001b[1;34m'r-'\u001b[0m\u001b[1;33m,\u001b[0m \u001b[0malpha\u001b[0m\u001b[1;33m=\u001b[0m\u001b[1;36m1\u001b[0m\u001b[1;33m)\u001b[0m\u001b[1;33m\u001b[0m\u001b[1;33m\u001b[0m\u001b[0m\n\u001b[0m\u001b[0;32m     18\u001b[0m \u001b[0mplt\u001b[0m\u001b[1;33m.\u001b[0m\u001b[0mxlabel\u001b[0m\u001b[1;33m(\u001b[0m\u001b[1;34m'Factor Analysis - parameter'\u001b[0m\u001b[1;33m)\u001b[0m\u001b[1;33m\u001b[0m\u001b[1;33m\u001b[0m\u001b[0m\n\u001b[0;32m     19\u001b[0m \u001b[0mplt\u001b[0m\u001b[1;33m.\u001b[0m\u001b[0msavefig\u001b[0m\u001b[1;33m(\u001b[0m\u001b[1;34m'Data\\\\fa_1.png'\u001b[0m\u001b[1;33m)\u001b[0m\u001b[1;33m\u001b[0m\u001b[1;33m\u001b[0m\u001b[0m\n",
      "\u001b[1;31mIndexError\u001b[0m: index 2 is out of bounds for axis 1 with size 2"
     ]
    },
    {
     "data": {
      "image/png": "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\n",
      "text/plain": [
       "<Figure size 432x288 with 1 Axes>"
      ]
     },
     "metadata": {
      "needs_background": "light"
     },
     "output_type": "display_data"
    }
   ],
   "source": [
    "plt.plot(np.arange(0,len(output_logistic[:,0])),output_logistic[:,0], 'r-', alpha=1)\n",
    "plt.xlabel('Logistic Regression - intercept')\n",
    "plt.savefig('Data\\\\lr_intercept.png')\n",
    "\n",
    "plt.plot(np.arange(0,len(output_logistic[:,1])),output_logistic[:,1], 'r-', alpha=1)\n",
    "plt.xlabel('Logistic Regression - gender')\n",
    "plt.savefig('Data\\\\lr_gender.png')\n",
    "\n",
    "plt.plot(np.arange(0,len(output_logistic[:,10])),output_logistic[:,10], 'r-', alpha=1)\n",
    "plt.xlabel('Logistic Regression - cancer type (one of them)')\n",
    "plt.savefig('Data\\\\lr_cancertype.png')\n",
    "\n",
    "plt.plot(np.arange(0,len(output_logistic[:,30])),output_logistic[:,30], 'r-', alpha=1)\n",
    "plt.xlabel('Logistic Regression - k (one of them)')\n",
    "plt.savefig('Data\\\\lr_k.png')\n",
    "\n",
    "plt.plot(np.arange(0,len(output_factor_ln[:,2])),output_factor_ln[:,2], 'r-', alpha=1)\n",
    "plt.xlabel('Factor Analysis - parameter')\n",
    "plt.savefig('Data\\\\fa_1.png')\n",
    "\n"
   ]
  }
 ],
 "metadata": {
  "kernelspec": {
   "display_name": "Python 3",
   "language": "python",
   "name": "python3"
  },
  "language_info": {
   "codemirror_mode": {
    "name": "ipython",
    "version": 3
   },
   "file_extension": ".py",
   "mimetype": "text/x-python",
   "name": "python",
   "nbconvert_exporter": "python",
   "pygments_lexer": "ipython3",
   "version": "3.7.3"
  }
 },
 "nbformat": 4,
 "nbformat_minor": 2
}
