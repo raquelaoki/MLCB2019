{
 "cells": [
  {
   "cell_type": "code",
   "execution_count": 1,
   "metadata": {},
   "outputs": [],
   "source": [
    "'''Loading libraries'''\n",
    "import pandas as pd \n",
    "import numpy as np \n",
    "from scipy.stats import gamma, dirichlet, beta, nbinom, norm\n",
    "import time\n",
    "import matplotlib.pyplot as plt\n",
    "\n",
    "\n",
    "'''\n",
    "Notes: \n",
    "1) Likelihood_F I had to add a constant to avoid log(0). Check for a better solution\n",
    "2) Proposed values aren't good, all values are rejected \n",
    "'''\n",
    "\n",
    "\n",
    "'''Important parameters I need to constantly change'''\n",
    "k = 100\n",
    "sim = 1000\n",
    "start_time = time.time()\n"
   ]
  },
  {
   "cell_type": "code",
   "execution_count": 2,
   "metadata": {},
   "outputs": [],
   "source": [
    "'''Loading dataset'''\n",
    "#filename = \"C:\\\\Users\\\\raoki\\\\Documents\\\\GitHub\\\\project_spring2019\\\\Data\\\\data_final.csv\"\n",
    "filename = \"C:\\\\Users\\\\raque\\\\Google Drive\\\\SFU\\\\Project 2 - Spring 2019\\\\Data\\\\data_final.csv\"\n",
    "#filename = \"C:\\\\Users\\\\raque\\\\Google Drive\\\\SFU\\\\Project 2 - Spring 2019\\\\Data\\\\data_final_sub.csv\"\n",
    "data = pd.read_csv(filename, sep=',')\n"
   ]
  },
  {
   "cell_type": "code",
   "execution_count": 3,
   "metadata": {},
   "outputs": [
    {
     "data": {
      "text/plain": [
       "(500, 300)"
      ]
     },
     "execution_count": 3,
     "metadata": {},
     "output_type": "execute_result"
    }
   ],
   "source": [
    "'''Saving time in the first part'''\n",
    "data = data.iloc[0:500, 0:300]\n",
    "data.shape"
   ]
  },
  {
   "cell_type": "code",
   "execution_count": 4,
   "metadata": {},
   "outputs": [],
   "source": [
    "'''Organizing columns names'''\n",
    "lr = data.columns[[2,4,5,6,7,8,9,10,11,12,13,14,15,16,17,18]]\n",
    "y = data.columns[3]\n",
    "remove = data.columns[[0,1]]\n",
    "data_complete = data.copy()"
   ]
  },
  {
   "cell_type": "code",
   "execution_count": 5,
   "metadata": {},
   "outputs": [],
   "source": [
    "'''\n",
    "Class to work with model parameters\n",
    "I thought about using the default values as chain starting values, \n",
    "however, i encouter problems to change the size of arrays and matrices \n",
    "according with my currently k\n",
    "'''\n",
    "class parameters:\n",
    "    def __init__(self, latent_v,latent_sk,latent_pj,latent_phi ,latent_tht, prediction):\n",
    "        self.ln = latent_v #array with parameters that are only one number [0-c0,1-gamma0,2-eta,3-cj] \n",
    "        self.la_sk = latent_sk #array \n",
    "        self.la_pj = latent_pj #array\n",
    "        self.lm_phi = latent_phi #matrix (jk)\n",
    "        self.lm_tht = latent_tht #matrix  (kv)      \n",
    "        self.p = prediction #array [intercept, gender, 15 cancer types, k genes]\n"
   ]
  },
  {
   "cell_type": "code",
   "execution_count": 6,
   "metadata": {},
   "outputs": [],
   "source": [
    "'''\n",
    "Declaring my priori values: param.ln = [0-c0,1-gamma0,2-eta,3-cj], param.la_sk, param.la_pj, \n",
    "param.lm_phi, param.lm_tht and param.p = [] \n",
    "#j=sample of patients \n",
    "#v=genes\n",
    "#k=latent\n",
    "#UPDATE PARAM \n",
    "'''\n",
    "def priori_l(param):\n",
    "    k = len(param.la_sk)\n",
    "    j = len(param.la_pj)\n",
    "    v = param.lm_phi.shape[0]\n",
    "    #Prioris on the K plate\n",
    "    s0 = 1 #define better numbers in the future\n",
    "    t0 = 1 #define better numbers in the future \n",
    "    c0 = gamma.pdf(x=param.ln[0],a = s0,scale = t0) \n",
    "    a0 = 1 #define better numbers in the futureT\n",
    "    b0 = 1 #define better numbers in the future\n",
    "    gamma0 = gamma.pdf(x=param.ln[1],a = a0,scale = b0)\n",
    "    sk = gamma.pdf(x=param.la_sk,a=param.ln[1]/k,scale=param.ln[0])#array(k) gamma(3,5): mean is 15\n",
    "    s0 = 1\n",
    "    w0 = 1\n",
    "    eta = gamma.pdf(x=param.ln[2], a = s0, scale = w0) #1\n",
    "    #print(param.lm_phi.shape,np.repeat(param.ln[2],v).shape)\n",
    "    phivk = dirichlet.pdf(x=param.lm_phi, alpha=np.repeat(param.ln[2],v)) #MATRIX #1\n",
    "    #print(phivk.shape)\n",
    "    priorik = np.log(c0)+np.log(gamma0)+np.log(sk).sum()+np.log(eta)+np.log(phivk).sum()\n",
    "    #priories on the J plate\n",
    "    a0 = 1 #define better numbers in the future\n",
    "    b0 = 1 #define better numbers in the future\n",
    "    pj = beta.pdf(x=param.la_pj,a=a0,b=b0) #same numbers? #array\n",
    "    e0 = 2\n",
    "    f0 = 9\n",
    "    cj = gamma.pdf(param.ln[3], a = e0, scale = f0)\n",
    "    priorij = np.log(pj).sum()+np.log(cj) #array    \n",
    "    #prioris on K and J plate\n",
    "    thetakj = gamma.pdf(x=np.transpose(param.lm_tht),a=param.la_sk.reshape(1,k),scale = param.ln[3]) #MATRIX \n",
    "    priorikj = np.log(thetakj).sum()\n",
    "    return (priorik+priorij+priorikj)\n",
    "  \n",
    "#increase the sd to decrease the .sum()//increase uncertainity about parameters    \n",
    "def priori_p(param):\n",
    "    '''\n",
    "    #add prioris of logistic regression \n",
    "    #features are the theta_kj parameters and clinical info\n",
    "    #one parameter for each latent variable + one parameter for each clinical features\n",
    "    '''\n",
    "    k = len(param.la_sk)\n",
    "    mean = [-len(param.p),1] #intercept and gender\n",
    "    sd = [1,0.5]\n",
    "    mean.extend(np.repeat(1/15, 15))\n",
    "    sd.extend(np.repeat(0.5/15,15))\n",
    "    mean.extend(np.repeat(1,k))\n",
    "    sd.extend(np.repeat(0.05,k))\n",
    "    lr = norm.pdf(param.p,loc = mean, scale = sd) #loc/mean, scale/sd\n",
    "    return (np.log(lr).sum()) "
   ]
  },
  {
   "cell_type": "code",
   "execution_count": 7,
   "metadata": {},
   "outputs": [],
   "source": [
    "'''\n",
    "Declare all the likelihood distributions in two separete functions\n",
    "#_F represents the factor model likelihood and _P the prediction model likelihood\n",
    "'''\n",
    "\n",
    "#PASS DATA ONLY WITH RELEVANT COLUMNS FOR THIS PROBLEM \n",
    "def likelihood_F(param,dataf):\n",
    "    #print(dataf.head())\n",
    "    '''phi(jk) x theta(kv) must be matrix , final dim is j patients x v genes '''\n",
    "    #phi_theta = np.matmul(param.lm_phi, param.lm_tht) \n",
    "    #phi_theta = np.transpose(np.matmul(param.lm_phi, param.lm_tht)) \n",
    "    phi_theta = np.dot(param.lm_phi, param.lm_tht)\n",
    "    phi_theta = np.transpose(phi_theta)\n",
    "    #data_F = data.drop(lr,axis = 1)\n",
    "    #data_F = data_F.drop(y,axis = 1)\n",
    "    #print('lf: lm_phi ', start.lm_phi.shape, ' lm_tht shape',start.lm_tht.shape )\n",
    "    la_pj = np.repeat(start.la_pj, dataf.shape[1]).reshape(start.la_pj.shape[0],dataf.shape[1])\n",
    "    nvj = nbinom.pmf(dataf,n = phi_theta,p= la_pj) #matrix and array?\n",
    "    nvj += 0.000001  #LOOK FOR BETTER SOLUTION \n",
    "    return np.log(nvj).sum()\n",
    "\n",
    "#PASS DATA ONLY WITH RELEVANT COLUMNS FOR THIS PROBLEM \n",
    "#HERE (2854,) 100\n",
    "\n",
    "def likelihood_P(param, datap,y):\n",
    "    '''[intercept, gender, 15 cancer types, k genes]'''\n",
    "    xw = param.p[0]\n",
    "    #print(datap.head())\n",
    "    #print('xw: ', xw[0:10],'datap.shape[1]: ',datap.shape[1], 'param.p: ',param.p.shape)\n",
    "    for i in np.arange(1,datap.shape[1]):\n",
    "        xw = xw+param.p[i]*datap[datap.columns[i-1]]\n",
    "    \n",
    "    #theta = t(param.lm_tht)\n",
    "    #print('param.lm_tht shape',param.lm_tht.shape)\n",
    "    theta = np.transpose(param.lm_tht)\n",
    "    aux = datap.shape[1]\n",
    "    #print('xw shape(ok)',xw.shape, 'theta shape - wrong ',theta.shape, 'datap shape',datap.shape, 'param p shape',param.p.shape )\n",
    "    #xw shape (2854,) theta shape (1981, 100) datap shape (2854, 16) param p shape (103,)\n",
    "\n",
    "    for j in np.arange(0,theta.shape[1]):\n",
    "        xw = xw + param.p[aux+j]*theta[:,j]\n",
    "    \n",
    "    xwy = 0\n",
    "    for k in np.arange(1,len(y)): \n",
    "        xwy = xwy+xw[k]*y[k]\n",
    "    \n",
    "    lxp = sum(-np.log(1+np.exp(xw)))\n",
    "    #page 2 http://www.medicine.mcgill.ca/epidemiology/joseph/courses/EPIB-621/bayeslogit.pdf\n",
    "    #http://www.utstat.utoronto.ca/reid/sta2201s/2014/feb14-annotated-copy.pdf\n",
    "    #https://www.statlect.com/fundamentals-of-statistics/logistic-model-maximum-likelihood\n",
    "    return xwy + lxp"
   ]
  },
  {
   "cell_type": "code",
   "execution_count": 8,
   "metadata": {},
   "outputs": [],
   "source": [
    "'''\n",
    "Definition of the posterior distribution and the split of the datasets\n",
    "Note: the parameters are ok \n",
    "'''\n",
    "def posterior(param,data_F,data_P,y,k):\n",
    "    j = data.shape[0]\n",
    "    #print(data_F.head())\n",
    "    lf = likelihood_F(param,data_F)\n",
    "    lp = likelihood_P(param, data_P,y)\n",
    "    pl = priori_l(param)\n",
    "    pp = priori_p(param)\n",
    "    #print(lf,lp,pl,pp)\n",
    "    return (lf+lp+pl+pp)"
   ]
  },
  {
   "cell_type": "code",
   "execution_count": 9,
   "metadata": {},
   "outputs": [],
   "source": [
    "'''\n",
    "Proposal distribution\n",
    "'''\n",
    "\n",
    "#Proposal values for the parameters related to the factor model \n",
    "#Repete the parameters related to prediction and only propose\n",
    "#new values for the factor analysys part\n",
    "#output is the parameters class \n",
    "def proposal_f(current):\n",
    "    new = parameters(np.random.normal(current.ln,0.005),\n",
    "                     np.random.normal(current.la_sk,0.005),\n",
    "                     np.random.normal(current.la_pj,0.005),\n",
    "                     np.random.normal(current.lm_phi,0.005),\n",
    "                     np.random.normal(current.lm_tht,0.05), \n",
    "                     current.p)\n",
    "    new.lm_phi[new.lm_phi<0] = 0.00001\n",
    "    col_sums = new.lm_phi.sum(axis=0)\n",
    "    new.lm_phi = new.lm_phi / col_sums[np.newaxis,:]\n",
    "    return new\n",
    "\n",
    "#Proposal values for the parameters related to logistic regression \n",
    "#Repete the parameters related to factor analysis part and propose\n",
    "#new values for the logistc regression parameters \n",
    "#output is the parameters class \n",
    "def proposal_p(current):\n",
    "    new = parameters(current.ln, current.la_sk, current.la_pj, \n",
    "                     current.lm_phi, current.lm_tht, \n",
    "                     np.random.normal(current.p,0.05))\n",
    "    return new"
   ]
  },
  {
   "cell_type": "code",
   "execution_count": 10,
   "metadata": {},
   "outputs": [],
   "source": [
    "'''\n",
    "Creatint the MCMC for the model\n",
    "MCMC(\n",
    "startvalue = initial value for the parameters\n",
    "iterations = \n",
    "data = complete data with all columns \n",
    "k = number of latent variables\n",
    "remove, lr, y = columns names to be removed, presente only in the logistic regression part and y\n",
    ")\n",
    "'''\n",
    "def MCMC(startvalue, iterations, data,k, lr,y):\n",
    "    '''Splitting dataset'''\n",
    "    data_P = data[lr]\n",
    "    data_F = data.drop(lr,axis = 1)\n",
    "    data_F = data_F.drop(y,axis = 1)\n",
    "    y = data[y]\n",
    "    \n",
    "    '''\n",
    "    Initialization of the chains\n",
    "    Note: chain_f has elements from chain_p and vice-versa. Take care to not use incorrectly\n",
    "    '''     \n",
    "    chain_f = []\n",
    "    chain_p = []\n",
    "    chain_f.append(startvalue)\n",
    "    chain_p.append(startvalue)\n",
    "    #chain1[0]=proposalvalues1(startvalue1)\n",
    "    #chain2[0]=proposalvalues2(startvalue2)\n",
    "    \n",
    "    for i in np.arange(1,iterations):\n",
    "        '''Factor Analysis - Latent Features'''\n",
    "        #use chain_f or chain_p don't make difference here because\n",
    "        #the only parameters changed are the logistic regression and \n",
    "        #they aren't used in the factor analysis part. \n",
    "        param_new_f = proposal_f(chain_f[i-1])\n",
    "        param_cur_f = chain_f[i-1] \n",
    "        if i%100 == 0: \n",
    "            print('iteration ',i)\n",
    "        prob_f = np.exp(posterior(param_new_f,data_F,data_P,y,k)-posterior(param_cur_f,data_F,data_P,y,k))\n",
    "        if np.random.uniform(0,1,1)<prob_f:\n",
    "            chain_f.append(param_new_f)\n",
    "        else:\n",
    "            chain_f.append(param_cur_f) \n",
    "        '''Logistic Regression - Prediction'''\n",
    "        #chain_f[i] has the most update latent parameters and haven't changed the \n",
    "        #prediction parameters from [i-1] iteration\n",
    "        param_new_p = proposal_p(chain_f[i-1])\n",
    "        param_cur_p = chain_f[i-1]\n",
    "    \n",
    "        prob_p = np.exp(posterior(param_new_p,data_F,data_P,y,k)-posterior(param_cur_p,data_F,data_P,y,k))\n",
    "        if np.random.uniform(0,1,1)<prob_p:\n",
    "            chain_p.append(param_new_p)\n",
    "        else:\n",
    "            chain_p.append(param_cur_p)     \n",
    "\n",
    "    return chain_p, chain_f\n",
    "        \n",
    "        "
   ]
  },
  {
   "cell_type": "code",
   "execution_count": 11,
   "metadata": {},
   "outputs": [],
   "source": [
    "'''Non informative prioris: dirichlet has only 1, gamma distribution with 1 average, etc'''\n",
    "aux = len(lr)+1\n",
    "data = data.drop(remove,axis = 1)\n",
    "\n",
    "start = parameters([3,5,2,1], #ln \n",
    "                   np.repeat(15,k), #la_sk\n",
    "                   np.repeat(0.5,data.shape[0]), #la_pj\n",
    "                   np.repeat(1/(data.shape[1]-aux),(data.shape[1]-aux)*k).reshape((data.shape[1]-aux),k) ,#lm_phi v x k \n",
    "                   np.repeat(1,(data.shape[0])*k).reshape(k,(data.shape[0])), #lm_theta k x j\n",
    "                   np.concatenate(([-(k+aux)], np.repeat(1,k+aux-1))))  #p, k+aux-1  because intercept is already counted\n",
    "\n"
   ]
  },
  {
   "cell_type": "code",
   "execution_count": 12,
   "metadata": {},
   "outputs": [
    {
     "name": "stderr",
     "output_type": "stream",
     "text": [
      "C:\\Users\\raque\\Anaconda3\\envs\\py37\\lib\\site-packages\\ipykernel_launcher.py:38: RuntimeWarning: invalid value encountered in double_scalars\n",
      "C:\\Users\\raque\\Anaconda3\\envs\\py37\\lib\\site-packages\\ipykernel_launcher.py:39: RuntimeWarning: invalid value encountered in less\n",
      "C:\\Users\\raque\\Anaconda3\\envs\\py37\\lib\\site-packages\\ipykernel_launcher.py:49: RuntimeWarning: invalid value encountered in double_scalars\n",
      "C:\\Users\\raque\\Anaconda3\\envs\\py37\\lib\\site-packages\\ipykernel_launcher.py:50: RuntimeWarning: invalid value encountered in less\n"
     ]
    },
    {
     "name": "stdout",
     "output_type": "stream",
     "text": [
      "iteration  100\n",
      "iteration  200\n",
      "iteration  300\n",
      "iteration  400\n",
      "iteration  500\n",
      "iteration  600\n",
      "iteration  700\n",
      "iteration  800\n",
      "iteration  900\n",
      "--- 329.8726222515106 seconds ---\n"
     ]
    }
   ],
   "source": [
    "#data = data.drop(remove,axis=1)\n",
    "output_p, output_f = MCMC(start,sim,data,k,lr,y)\n",
    "\n",
    "print(\"--- %s seconds ---\" % (time.time() - start_time))\n",
    "\n"
   ]
  },
  {
   "cell_type": "code",
   "execution_count": 75,
   "metadata": {},
   "outputs": [],
   "source": [
    "'''Organizing outputs'''\n",
    "\n",
    "\n",
    "#Logistic Regression Parameters \n",
    "output_logistic = np.concatenate((output_p[0].p,output_p[1].p),axis = 0)\n",
    "#Factor Model parameters\n",
    "output_factor_ln = np.concatenate((output_f[0].ln,output_f[1].ln),axis = 0)\n",
    "output_factor_la_sk = np.concatenate((output_f[0].la_sk,output_f[1].la_sk),axis = 0)\n",
    "output_factor_la_pj = np.concatenate((output_f[0].la_pj,output_f[1].la_pj),axis = 0)\n",
    "#Matrix AxB is saved as a line A*B elements \n",
    "output_factor_lm_phi= np.concatenate((output_f[0].lm_phi,output_f[1].lm_phi),axis = 0)\n",
    "output_factor_lm_tht= np.concatenate((output_f[0].lm_tht,output_f[1].lm_tht),axis = 0)\n",
    "\n",
    "\n",
    "for i in np.arange(2,sim):\n",
    "    output_logistic = np.concatenate((output_logistic,output_p[i].p),axis = 0)\n",
    "    output_factor_ln = np.concatenate((output_factor_ln,output_f[1].ln),axis = 0)\n",
    "    output_factor_la_sk = np.concatenate((output_factor_la_sk,output_f[1].la_sk),axis = 0)\n",
    "    output_factor_la_pj = np.concatenate((output_factor_la_pj,output_f[1].la_pj),axis = 0)\n",
    "    output_factor_lm_phi = np.concatenate((output_factor_lm_phi,output_f[1].lm_phi),axis = 0)\n",
    "    output_factor_lm_tht = np.concatenate((output_factor_lm_tht,output_f[1].lm_tht),axis = 0)\n",
    "    \n",
    "output_logistic = output_logistic.reshape(sim,len(output_p[0].p) )    \n",
    "output_factor_ln = output_factor_ln.reshape(sim,len(output_f[0].ln) )\n",
    "output_factor_la_sk = output_factor_la_sk.reshape(sim,len(output_f[0].la_sk) )   \n",
    "output_factor_la_pj = output_factor_la_pj.reshape(sim,len(output_f[0].la_pj) )\n",
    "output_factor_lm_phi = output_factor_lm_phi.reshape(sim,output_f[0].lm_phi.shape[0]*output_f[0].lm_phi.shape[1])   \n",
    "output_factor_lm_tht = output_factor_lm_tht.reshape(sim,output_f[0].lm_tht.shape[0]*output_f[0].lm_tht.shape[1])\n",
    "\n",
    "np.savetxt('Data\\\\output_logistic.txt', output_logistic, delimiter=',')  \n",
    "np.savetxt('Data\\\\output_factor_ln.txt', output_factor_ln, delimiter=',')  \n",
    "np.savetxt('Data\\\\output_factor_la_sk.txt', output_factor_la_sk, delimiter=',')  \n",
    "np.savetxt('Data\\\\output_factor_la_pj.txt', output_factor_la_pj, delimiter=',')  \n",
    "np.savetxt('Data\\\\output_factor_lm_phi.txt', output_factor_lm_phi, delimiter=',')  \n",
    "np.savetxt('Data\\\\output_factor_lm_tht.txt', output_factor_lm_tht, delimiter=',')  \n"
   ]
  },
  {
   "cell_type": "code",
   "execution_count": null,
   "metadata": {},
   "outputs": [],
   "source": [
    "#acceptance and rejection  problem \n",
    "#create a easy way to identify paramerters based on name\n",
    "#test several parameters at once"
   ]
  },
  {
   "cell_type": "code",
   "execution_count": 76,
   "metadata": {},
   "outputs": [
    {
     "data": {
      "image/png": "[encoded data removed]",
      "text/plain": [
       "<Figure size 432x288 with 1 Axes>"
      ]
     },
     "metadata": {
      "needs_background": "light"
     },
     "output_type": "display_data"
    }
   ],
   "source": []
  },
  {
   "cell_type": "code",
   "execution_count": 77,
   "metadata": {},
   "outputs": [
    {
     "data": {
      "image/png": "[encoded data removed]",
      "text/plain": [
       "<Figure size 432x288 with 1 Axes>"
      ]
     },
     "metadata": {
      "needs_background": "light"
     },
     "output_type": "display_data"
    }
   ],
   "source": [
    "plt.plot(np.arange(0,len(output_logistic[:,0])),output_logistic[:,0], 'r-', alpha=1)\n",
    "plt.xlabel('Logistic Regression - intercept')\n",
    "plt.savefig('Data\\\\lr_intercept.png')\n",
    "\n",
    "plt.plot(np.arange(0,len(output_logistic[:,1])),output_logistic[:,1], 'r-', alpha=1)\n",
    "plt.xlabel('Logistic Regression - gender')\n",
    "plt.savefig('Data\\\\lr_gender.png')\n",
    "\n",
    "plt.plot(np.arange(0,len(output_logistic[:,10])),output_logistic[:,10], 'r-', alpha=1)\n",
    "plt.xlabel('Logistic Regression - cancer type (one of them)')\n",
    "plt.savefig('Data\\\\lr_cancertype.png')\n",
    "\n",
    "plt.plot(np.arange(0,len(output_logistic[:,30])),output_logistic[:,30], 'r-', alpha=1)\n",
    "plt.xlabel('Logistic Regression - k (one of them)')\n",
    "plt.savefig('Data\\\\lr_k.png')\n",
    "\n",
    "\n",
    "plt.plot(np.arange(0,len(output_factor_ln[:,2])),output_factor_ln[:,2], 'r-', alpha=1)\n",
    "plt.xlabel('Factor Analysis - parameter')\n",
    "plt.savefig('Data\\\\fa_1.png')\n",
    "\n"
   ]
  }
 ],
 "metadata": {
  "kernelspec": {
   "display_name": "Python 3",
   "language": "python",
   "name": "python3"
  },
  "language_info": {
   "codemirror_mode": {
    "name": "ipython",
    "version": 3
   },
   "file_extension": ".py",
   "mimetype": "text/x-python",
   "name": "python",
   "nbconvert_exporter": "python",
   "pygments_lexer": "ipython3",
   "version": "3.7.1"
  }
 },
 "nbformat": 4,
 "nbformat_minor": 2
}
