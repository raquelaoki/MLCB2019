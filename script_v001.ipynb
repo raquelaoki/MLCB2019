{
 "cells": [
  {
   "cell_type": "code",
   "execution_count": 1,
   "metadata": {},
   "outputs": [],
   "source": [
    "import pandas as pd \n",
    "import numpy as np \n",
    "from scipy.stats import gamma, dirichlet, beta, nbinom\n"
   ]
  },
  {
   "cell_type": "code",
   "execution_count": 4,
   "metadata": {},
   "outputs": [],
   "source": [
    "#Load dataset\n",
    "filename = \"C:\\\\Users\\\\raque\\\\Google Drive\\\\SFU\\\\Project 2 - Spring 2019\\\\Data\\\\data_final.csv\"\n",
    "#filename2 = \"C:\\\\Users\\\\raque\\\\Google Drive\\\\SFU\\\\Project 2 - Spring 2019\\\\Data\\\\tcga_rna.txt\"\n",
    "#filename1 = \"C:\\\\Users\\\\raoki\\\\Documents\\\\GitHub\\\\project_spring2019\\\\Data\\\\tcga_cli.txt\"\n",
    "#filename2 = \"C:\\\\Users\\\\raoki\\\\Documents\\\\GitHub\\\\project_spring2019\\\\Data\\\\tcga_rna.txt\"\n",
    "data = pd.read_csv(filename, sep=',')\n",
    "#datar = pd.read_csv(filename2, sep=';')"
   ]
  },
  {
   "cell_type": "code",
   "execution_count": 33,
   "metadata": {},
   "outputs": [],
   "source": [
    "#Class to keep the parameters. WORK IN PROGRESS\n",
    "class parameters:\n",
    "    def __init__(self, latent_v,latent_sk,latent_pj,latent_phi ,latent_tht, prediction):\n",
    "        self.ln = latent_v #array with parameters that are only one number \n",
    "        self.la_sk = latent_sk #array \n",
    "        self.la_pj = latent_pj #array\n",
    "        self.lm_phi = latent_phi #matrix \n",
    "        self.lm_tht = latent_tht #matrix        \n",
    "        self.p = prediction #array [intercept, gender, 15 cancer types, k genes]\n",
    "        "
   ]
  },
  {
   "cell_type": "code",
   "execution_count": 12,
   "metadata": {},
   "outputs": [],
   "source": [
    "'''Declaring my priori values: param.ln = [0-c0,1-gamma0,2-eta,3-cj], param.la_sk, param.la_pj, \n",
    "param.lm_phi, param.lm_tht and param.p = [] \n",
    "#j=sample of patients \n",
    "#v=genes\n",
    "#k=latent\n",
    "#UPDATE PARAM '''\n",
    "def priori_l(param):\n",
    "    k = len(param.la_sk)\n",
    "    j = len(param.la_pj)\n",
    "    #Prioris on the K plate\n",
    "    s0 = 1 #define better numbers in the future\n",
    "    t0 = 1 #define better numbers in the future \n",
    "    c0 = gamma.pdf(x=param.ln[0],a = s0,scale = 1/t0)\n",
    "    a0 = 1 #define better numbers in the futureT\n",
    "    b0 = 1 #define better numbers in the future\n",
    "    gamma0 = gamma.pdf(x=param.ln[1],a = a0,scale = 1/b0)\n",
    "    sk = gamma.pdf(x=param.la_sk,a=gamma0/k,scale=1/c0)#array\n",
    "    s0 = 1\n",
    "    w0 = 1\n",
    "    eta = gamma.pdf(x=param.ln[2], a = s0, scale = w0)\n",
    "    phivk = dirichlet.pdf(param.lm_phi, np.repeat(eta,j)) #MATRIX\n",
    "    priorik = np.log(c0)+np.log(gamma0)+np.log(sk).sum()+np.log(eta)+np.log(phivk).sum()\n",
    "    #priories on the J plate\n",
    "    a0 = 1 #define better numbers in the future\n",
    "    b0 = 1 #define better numbers in the future\n",
    "    pj = beta(x=param.la_pj,a=a0,b=b0) #same numbers? #array\n",
    "    e0 = 1\n",
    "    f0 = 1\n",
    "    cj = gamma.pdf(param.ln[3], a = e0, scale = f0)\n",
    "    priorij = np.log(pj).sum()+np.log(cj) #array    \n",
    "    #prioris on K and J plate\n",
    "    thetakj = gamma.pdf(x=param.lm_tht,a=sk,scale = 1/cj) #MATRIX\n",
    "    priorikj = np.log(thetakj).sum()\n",
    "    \n",
    "    return (priorik+priorij+priorikj)\n",
    "    \n",
    "def priori_p(param):\n",
    "    '''\n",
    "    #add prioris of logistic regression \n",
    "    #features are the theta_kj parameters and clinical info\n",
    "    #one parameter for each latent variable + one parameter for each clinical features\n",
    "    '''\n",
    "    k = len(param.la_sk)\n",
    "    mean = len(param.p)\n",
    "    sd = 5\n",
    "    mean.expend(1,np.repeat(1/15, 15))\n",
    "    sd.expend(0.05,np.repeat(0.05/15,15))\n",
    "    mean.expend(np.repeat(1,k))\n",
    "    sd.expend(np.repeat(0.05,k))\n",
    "    lr = normal.pdf(param.p,loc = mean, scale = sd) #loc/mean, scale/sd"
   ]
  },
  {
   "cell_type": "code",
   "execution_count": null,
   "metadata": {},
   "outputs": [],
   "source": [
    "'''\n",
    "Declare all the likelihood distributions in two separete functions\n",
    "#_F represents the factor model likelihood and _P the prediction model likelihood\n",
    "'''#\n",
    "#Gene expression follows a gamma distribution \n",
    "def likelihood_F(param,data):\n",
    "    phi_theta = np.matmul(param.lm_phi, param.lm_tht) #phi(jk) x theta(kv) must be matrix , final dim is j patients x v genes \n",
    "    nvj = nbinom.pmf(,n = phi_theta,p= pj) #matrix and array?\n",
    "    return np.log(nvj).sum()\n",
    "\n",
    "#Prediction is a logistic regression \n",
    "def likelihood_P(param, data):\n",
    "    xw = param.p[0]+param.p[1]*data['gender']+\n",
    "    \n",
    "    logistic.pdf.equation\n",
    "    \n",
    "    \n",
    "    \n",
    "    return np.log(l1).sum()"
   ]
  },
  {
   "cell_type": "code",
   "execution_count": null,
   "metadata": {},
   "outputs": [],
   "source": [
    "#combine the prioris and the likelihood \n",
    "def posterior(param,data,k):\n",
    "    j = data.shape[0]\n",
    "    return (likelihood_F(param,data)+likelihood_P(param, data)+priori_l(param,k,j)+priori_p(param,k,j)"
   ]
  },
  {
   "cell_type": "code",
   "execution_count": null,
   "metadata": {},
   "outputs": [],
   "source": [
    "#These two functions propose new parameters candidates \n",
    "def proposal_f(current):\n",
    "    #every parameter is a normal distrbituion and need to define sd\n",
    "    new.f = np.random.normal(current.f)#define better numbers in the future\n",
    "    return new\n",
    "\n",
    "def proposal_p(current):\n",
    "    #every parameter is a normal distrbituion and need to define sd\n",
    "     new.p = np.random.normal(current.p)#define better numbers in the future\n",
    "    return new"
   ]
  },
  {
   "cell_type": "code",
   "execution_count": null,
   "metadata": {},
   "outputs": [],
   "source": [
    "#Itaration part. It works with two separate but sequential chains. \n",
    "def MCMC(startvalue, iterations, data,k):\n",
    "    chain_f = np.zeros((iterations+1,len(startvalue.classinfo)))\n",
    "    chain_p = np.zeros((iterations+1,len(startvalue.classinfo)))\n",
    "    chain1[0]=proposalvalues1(startvalue1)\n",
    "    chain2[0]=proposalvalues2(startvalue2)\n",
    "    for i in np.arange(iterations):\n",
    "        param_new.f = proposal_f(chain_f[i,])\n",
    "        param_curr.f = chain_f[i-1,]\n",
    "        param_new.p = param_curr.p = chain_p[i-1,]  \n",
    "        prob_f = np.exp(posterior(param_new,data,k)-posterior(param_curr,data,k))\n",
    "        if np.random.uniform(0,1,1)<prob_f:\n",
    "            chain_f[i+1,] = param_new.f\n",
    "        else:\n",
    "            chain_f[i+1,] = chain_f[i,]\n",
    "            \n",
    "        #repeat process to prediction    "
   ]
  },
  {
   "cell_type": "code",
   "execution_count": null,
   "metadata": {},
   "outputs": [],
   "source": []
  },
  {
   "cell_type": "code",
   "execution_count": 45,
   "metadata": {},
   "outputs": [
    {
     "data": {
      "text/plain": [
       "[1, 2, 3, 4, 5]"
      ]
     },
     "execution_count": 45,
     "metadata": {},
     "output_type": "execute_result"
    }
   ],
   "source": [
    "#dirichlet.pdf([0.5],shape= [0.5])\n",
    "#quantiles = np.array([0.2, 0.2, 0.6])\n",
    "#alpha = np.array([0.4, 5, 15]) \n",
    "#dirichlet.pdf(quantiles, alpha)\n",
    "#gamma.pdf([0.5,0.75], a = [1,5], scale =1)\n",
    "#nbinom.pmf(2,n = 2,p=0.5)\n",
    "a = [1,2,3]\n",
    "b = [4,5]\n",
    "a.extend(b)\n",
    "a"
   ]
  }
 ],
 "metadata": {
  "kernelspec": {
   "display_name": "Python 3",
   "language": "python",
   "name": "python3"
  },
  "language_info": {
   "codemirror_mode": {
    "name": "ipython",
    "version": 3
   },
   "file_extension": ".py",
   "mimetype": "text/x-python",
   "name": "python",
   "nbconvert_exporter": "python",
   "pygments_lexer": "ipython3",
   "version": "3.6.7"
  }
 },
 "nbformat": 4,
 "nbformat_minor": 2
}
