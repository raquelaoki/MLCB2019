{
 "cells": [
  {
   "cell_type": "code",
   "execution_count": 2,
   "metadata": {},
   "outputs": [],
   "source": [
    "import pandas as pd \n",
    "import numpy as np "
   ]
  },
  {
   "cell_type": "code",
   "execution_count": 6,
   "metadata": {},
   "outputs": [],
   "source": [
    "#Load dataset\n",
    "filename1 = \"C:\\\\Users\\\\raque\\\\Google Drive\\\\SFU\\\\Project 2 - Spring 2019\\\\Data\\\\tcga_cli.txt\"\n",
    "filename2 = \"C:\\\\Users\\\\raque\\\\Google Drive\\\\SFU\\\\Project 2 - Spring 2019\\\\Data\\\\tcga_rna.txt\"\n",
    "data.c = pd.read_csv(filename1, sep=';')\n",
    "data.r = pd.read_csv(filename2, sep=';')"
   ]
  },
  {
   "cell_type": "code",
   "execution_count": 13,
   "metadata": {},
   "outputs": [
    {
     "name": "stdout",
     "output_type": "stream",
     "text": [
      "<class 'list'> ['patients', 'gender', 'race', 'ethnicity', 'vital_status', 'tumor_status', 'new_tumor_event_dx_indicator', 'abr']\n"
     ]
    },
    {
     "ename": "KeyError",
     "evalue": "\"[('patients', 'gender', 'race', 'ethnicity', 'vital_status', 'tumor_status', 'new_tumor_event_dx_indicator', 'abr')] not in index\"",
     "output_type": "error",
     "traceback": [
      "\u001b[1;31m---------------------------------------------------------------------------\u001b[0m",
      "\u001b[1;31mKeyError\u001b[0m                                  Traceback (most recent call last)",
      "\u001b[1;32m<ipython-input-13-dd5f40628c93>\u001b[0m in \u001b[0;36m<module>\u001b[1;34m\u001b[0m\n\u001b[0;32m      1\u001b[0m \u001b[0mcolnames_cli\u001b[0m \u001b[1;33m=\u001b[0m \u001b[1;33m[\u001b[0m\u001b[1;34m\"patients\"\u001b[0m\u001b[1;33m,\u001b[0m\u001b[1;34m\"gender\"\u001b[0m\u001b[1;33m,\u001b[0m \u001b[1;34m'race'\u001b[0m \u001b[1;33m,\u001b[0m \u001b[1;34m\"ethnicity\"\u001b[0m\u001b[1;33m,\u001b[0m  \u001b[1;34m\"vital_status\"\u001b[0m\u001b[1;33m,\u001b[0m \u001b[1;34m\"tumor_status\"\u001b[0m\u001b[1;33m,\u001b[0m\u001b[1;34m'new_tumor_event_dx_indicator'\u001b[0m\u001b[1;33m,\u001b[0m\u001b[1;34m'abr'\u001b[0m\u001b[1;33m]\u001b[0m\u001b[1;33m\u001b[0m\u001b[1;33m\u001b[0m\u001b[0m\n\u001b[0;32m      2\u001b[0m \u001b[0mprint\u001b[0m\u001b[1;33m(\u001b[0m\u001b[0mtype\u001b[0m\u001b[1;33m(\u001b[0m\u001b[0mcolnames_cli\u001b[0m\u001b[1;33m)\u001b[0m\u001b[1;33m,\u001b[0m \u001b[0mcolnames_cli\u001b[0m\u001b[1;33m)\u001b[0m\u001b[1;33m\u001b[0m\u001b[1;33m\u001b[0m\u001b[0m\n\u001b[1;32m----> 3\u001b[1;33m \u001b[0mtest\u001b[0m \u001b[1;33m=\u001b[0m \u001b[0mdata\u001b[0m\u001b[1;33m[\u001b[0m\u001b[1;33m[\u001b[0m\u001b[0mcolnames_cli\u001b[0m\u001b[1;33m]\u001b[0m\u001b[1;33m]\u001b[0m\u001b[1;33m\u001b[0m\u001b[1;33m\u001b[0m\u001b[0m\n\u001b[0m\u001b[0;32m      4\u001b[0m \u001b[1;31m#test.shape\u001b[0m\u001b[1;33m\u001b[0m\u001b[1;33m\u001b[0m\u001b[1;33m\u001b[0m\u001b[0m\n",
      "\u001b[1;32m~\\Anaconda3\\lib\\site-packages\\pandas\\core\\frame.py\u001b[0m in \u001b[0;36m__getitem__\u001b[1;34m(self, key)\u001b[0m\n\u001b[0;32m   2680\u001b[0m         \u001b[1;32mif\u001b[0m \u001b[0misinstance\u001b[0m\u001b[1;33m(\u001b[0m\u001b[0mkey\u001b[0m\u001b[1;33m,\u001b[0m \u001b[1;33m(\u001b[0m\u001b[0mSeries\u001b[0m\u001b[1;33m,\u001b[0m \u001b[0mnp\u001b[0m\u001b[1;33m.\u001b[0m\u001b[0mndarray\u001b[0m\u001b[1;33m,\u001b[0m \u001b[0mIndex\u001b[0m\u001b[1;33m,\u001b[0m \u001b[0mlist\u001b[0m\u001b[1;33m)\u001b[0m\u001b[1;33m)\u001b[0m\u001b[1;33m:\u001b[0m\u001b[1;33m\u001b[0m\u001b[1;33m\u001b[0m\u001b[0m\n\u001b[0;32m   2681\u001b[0m             \u001b[1;31m# either boolean or fancy integer index\u001b[0m\u001b[1;33m\u001b[0m\u001b[1;33m\u001b[0m\u001b[1;33m\u001b[0m\u001b[0m\n\u001b[1;32m-> 2682\u001b[1;33m             \u001b[1;32mreturn\u001b[0m \u001b[0mself\u001b[0m\u001b[1;33m.\u001b[0m\u001b[0m_getitem_array\u001b[0m\u001b[1;33m(\u001b[0m\u001b[0mkey\u001b[0m\u001b[1;33m)\u001b[0m\u001b[1;33m\u001b[0m\u001b[1;33m\u001b[0m\u001b[0m\n\u001b[0m\u001b[0;32m   2683\u001b[0m         \u001b[1;32melif\u001b[0m \u001b[0misinstance\u001b[0m\u001b[1;33m(\u001b[0m\u001b[0mkey\u001b[0m\u001b[1;33m,\u001b[0m \u001b[0mDataFrame\u001b[0m\u001b[1;33m)\u001b[0m\u001b[1;33m:\u001b[0m\u001b[1;33m\u001b[0m\u001b[1;33m\u001b[0m\u001b[0m\n\u001b[0;32m   2684\u001b[0m             \u001b[1;32mreturn\u001b[0m \u001b[0mself\u001b[0m\u001b[1;33m.\u001b[0m\u001b[0m_getitem_frame\u001b[0m\u001b[1;33m(\u001b[0m\u001b[0mkey\u001b[0m\u001b[1;33m)\u001b[0m\u001b[1;33m\u001b[0m\u001b[1;33m\u001b[0m\u001b[0m\n",
      "\u001b[1;32m~\\Anaconda3\\lib\\site-packages\\pandas\\core\\frame.py\u001b[0m in \u001b[0;36m_getitem_array\u001b[1;34m(self, key)\u001b[0m\n\u001b[0;32m   2724\u001b[0m             \u001b[1;32mreturn\u001b[0m \u001b[0mself\u001b[0m\u001b[1;33m.\u001b[0m\u001b[0m_take\u001b[0m\u001b[1;33m(\u001b[0m\u001b[0mindexer\u001b[0m\u001b[1;33m,\u001b[0m \u001b[0maxis\u001b[0m\u001b[1;33m=\u001b[0m\u001b[1;36m0\u001b[0m\u001b[1;33m)\u001b[0m\u001b[1;33m\u001b[0m\u001b[1;33m\u001b[0m\u001b[0m\n\u001b[0;32m   2725\u001b[0m         \u001b[1;32melse\u001b[0m\u001b[1;33m:\u001b[0m\u001b[1;33m\u001b[0m\u001b[1;33m\u001b[0m\u001b[0m\n\u001b[1;32m-> 2726\u001b[1;33m             \u001b[0mindexer\u001b[0m \u001b[1;33m=\u001b[0m \u001b[0mself\u001b[0m\u001b[1;33m.\u001b[0m\u001b[0mloc\u001b[0m\u001b[1;33m.\u001b[0m\u001b[0m_convert_to_indexer\u001b[0m\u001b[1;33m(\u001b[0m\u001b[0mkey\u001b[0m\u001b[1;33m,\u001b[0m \u001b[0maxis\u001b[0m\u001b[1;33m=\u001b[0m\u001b[1;36m1\u001b[0m\u001b[1;33m)\u001b[0m\u001b[1;33m\u001b[0m\u001b[1;33m\u001b[0m\u001b[0m\n\u001b[0m\u001b[0;32m   2727\u001b[0m             \u001b[1;32mreturn\u001b[0m \u001b[0mself\u001b[0m\u001b[1;33m.\u001b[0m\u001b[0m_take\u001b[0m\u001b[1;33m(\u001b[0m\u001b[0mindexer\u001b[0m\u001b[1;33m,\u001b[0m \u001b[0maxis\u001b[0m\u001b[1;33m=\u001b[0m\u001b[1;36m1\u001b[0m\u001b[1;33m)\u001b[0m\u001b[1;33m\u001b[0m\u001b[1;33m\u001b[0m\u001b[0m\n\u001b[0;32m   2728\u001b[0m \u001b[1;33m\u001b[0m\u001b[0m\n",
      "\u001b[1;32m~\\Anaconda3\\lib\\site-packages\\pandas\\core\\indexing.py\u001b[0m in \u001b[0;36m_convert_to_indexer\u001b[1;34m(self, obj, axis, is_setter)\u001b[0m\n\u001b[0;32m   1325\u001b[0m                 \u001b[1;32mif\u001b[0m \u001b[0mmask\u001b[0m\u001b[1;33m.\u001b[0m\u001b[0many\u001b[0m\u001b[1;33m(\u001b[0m\u001b[1;33m)\u001b[0m\u001b[1;33m:\u001b[0m\u001b[1;33m\u001b[0m\u001b[1;33m\u001b[0m\u001b[0m\n\u001b[0;32m   1326\u001b[0m                     raise KeyError('{mask} not in index'\n\u001b[1;32m-> 1327\u001b[1;33m                                    .format(mask=objarr[mask]))\n\u001b[0m\u001b[0;32m   1328\u001b[0m \u001b[1;33m\u001b[0m\u001b[0m\n\u001b[0;32m   1329\u001b[0m                 \u001b[1;32mreturn\u001b[0m \u001b[0mcom\u001b[0m\u001b[1;33m.\u001b[0m\u001b[0m_values_from_object\u001b[0m\u001b[1;33m(\u001b[0m\u001b[0mindexer\u001b[0m\u001b[1;33m)\u001b[0m\u001b[1;33m\u001b[0m\u001b[1;33m\u001b[0m\u001b[0m\n",
      "\u001b[1;31mKeyError\u001b[0m: \"[('patients', 'gender', 'race', 'ethnicity', 'vital_status', 'tumor_status', 'new_tumor_event_dx_indicator', 'abr')] not in index\""
     ]
    }
   ],
   "source": [
    "colnames_cli = [\"patients\",\"gender\", 'race' , \"ethnicity\",  \"vital_status\", \"tumor_status\",'new_tumor_event_dx_indicator','abr']\n",
    "print(type(colnames_cli), colnames_cli)\n",
    "test = data[[colnames_cli]]\n",
    "#test.shape"
   ]
  },
  {
   "cell_type": "code",
   "execution_count": 15,
   "metadata": {},
   "outputs": [
    {
     "name": "stdout",
     "output_type": "stream",
     "text": [
      "['ZNF192.7745', 'ZNF193.7746', 'ZNF195.7748', 'ZNF197.10168', 'ZNF19.7567', 'ZNF200.7752', 'ZNF202.7753', 'ZNF204P.7754', 'ZNF205.7755', 'ZNF207.7756', 'ZNF208.7757', 'ZNF20.7568', 'ZNF211.10520', 'ZNF212.7988', 'ZNF213.7760', 'ZNF214.7761', 'ZNF215.7762', 'ZNF217.7764', 'ZNF219.51222', 'ZNF221.7638', 'ZNF222.7673', 'ZNF223.7766', 'ZNF224.7767', 'ZNF225.7768', 'ZNF226.7769', 'ZNF227.7770', 'ZNF229.7772', 'ZNF22.7570', 'ZNF230.7773', 'ZNF232.7775', 'ZNF233.353355', 'ZNF234.10780', 'ZNF235.9310', 'ZNF236.7776', 'ZNF238.10472', 'ZNF239.8187', 'ZNF23.7571', 'ZNF248.57209', 'ZNF24.7572', 'ZNF250.58500', 'ZNF251.90987', 'ZNF252.286101', 'ZNF253.56242', 'ZNF254.9534', 'ZNF256.10172', 'ZNF257.113835', 'ZNF259.8882', 'ZNF25.219749', 'ZNF260.339324', 'ZNF263.10127', 'ZNF264.9422', 'ZNF266.10781', 'ZNF267.10308', 'ZNF268.10795', 'ZNF26.7574', 'ZNF271.10778', 'ZNF273.10793', 'ZNF274.10782', 'ZNF275.10838', 'ZNF276.92822', 'ZNF277.11179', 'ZNF280A.129025', 'ZNF280B.140883', 'ZNF280C.55609', 'ZNF280D.54816', 'ZNF281.23528', 'ZNF282.8427', 'ZNF283.284349', 'ZNF284.342909', 'ZNF285.26974', 'ZNF286A.57335', 'ZNF286B.729288', 'ZNF287.57336', 'ZNF28.7576', 'ZNF292.23036', 'ZNF295.49854', 'ZNF296.162979', 'ZNF2.7549', 'ZNF300.91975', 'ZNF302.55900', 'ZNF304.57343', 'ZNF30.90075', 'ZNF311.282890', 'ZNF317.57693', 'ZNF318.24149', 'ZNF319.57567', 'ZNF320.162967', 'ZNF321.399669', 'ZNF322A.79692', 'ZNF322B.387328', 'ZNF323.64288', 'ZNF324B.388569', 'ZNF324.25799', 'ZNF326.284695', 'ZNF329.79673', 'ZNF32.7580', 'ZNF330.27309', 'ZNF331.55422', 'ZNF333.84449', 'ZNF334.55713', 'ZNF335.63925', 'ZNF337.26152', 'ZNF33A.7581', 'ZNF33B.7582', 'ZNF341.84905', 'ZNF343.79175', 'ZNF345.25850', 'ZNF346.23567', 'ZNF347.84671', 'ZNF34.80778', 'ZNF350.59348', 'ZNF354A.6940', 'ZNF354B.117608', 'ZNF354C.30832', 'ZNF358.140467', 'ZNF35.7584', 'ZNF362.149076', 'ZNF365.22891', 'ZNF366.167465', 'ZNF367.195828', 'ZNF37A.7587', 'ZNF37B.100129482', 'ZNF382.84911', 'ZNF383.163087', 'ZNF384.171017', 'ZNF385A.25946', 'ZNF385B.151126', 'ZNF385D.79750', 'ZNF389.651302', 'ZNF391.346157', 'ZNF394.84124', 'ZNF395.55893', 'ZNF396.252884', 'ZNF397OS.100101467', 'ZNF397.84307', 'ZNF398.57541', 'ZNF3.7551', 'ZNF404.342908', 'ZNF407.55628', 'ZNF408.79797', 'ZNF410.57862', 'ZNF414.84330', 'ZNF415.55786', 'ZNF416.55659', 'ZNF417.147687', 'ZNF418.147686', 'ZNF419.79744', 'ZNF41.7592', 'ZNF420.147923', 'ZNF423.23090', 'ZNF425.155054', 'ZNF426.79088', 'ZNF428.126299', 'ZNF429.353088', 'ZNF430.80264', 'ZNF431.170959', 'ZNF432.9668', 'ZNF433.163059', 'ZNF434.54925', 'ZNF436.80818', 'ZNF438.220929', 'ZNF439.90594', 'ZNF43.7594', 'ZNF440.126070', 'ZNF441.126068', 'ZNF442.79973', 'ZNF443.10224', 'ZNF444.55311', 'ZNF445.353274', 'ZNF446.55663', 'ZNF449.203523', 'ZNF44.51710', 'ZNF451.26036', 'ZNF454.285676', 'ZNF45.7596', 'ZNF460.10794', 'ZNF461.92283', 'ZNF462.58499', 'ZNF467.168544', 'ZNF468.90333', 'ZNF469.84627', 'ZNF470.388566', 'ZNF471.57573', 'ZNF473.25888', 'ZNF474.133923', 'ZNF479.90827', 'ZNF480.147657', 'ZNF483.158399', 'ZNF484.83744', 'ZNF485.220992', 'ZNF486.90649', 'ZNF487.642819', 'ZNF488.118738', 'ZNF48.197407', 'ZNF490.57474', 'ZNF491.126069', 'ZNF492.57615', 'ZNF493.284443', 'ZNF496.84838', 'ZNF497.162968', 'ZNF498.221785', 'ZNF500.26048', 'ZNF501.115560', 'ZNF502.91392', 'ZNF503.84858', 'ZNF506.440515', 'ZNF507.22847', 'ZNF510.22869', 'ZNF511.118472', 'ZNF512B.57473', 'ZNF512.84450', 'ZNF513.130557', 'ZNF514.84874', 'ZNF516.9658', 'ZNF517.340385', 'ZNF518A.9849', 'ZNF518B.85460', 'ZNF519.162655', 'ZNF521.25925', 'ZNF524.147807', 'ZNF525.170958', 'ZNF526.116115', 'ZNF527.84503', 'ZNF528.84436', 'ZNF529.57711', 'ZNF530.348327', 'ZNF532.55205', 'ZNF534.147658', 'ZNF536.9745', 'ZNF540.163255', 'ZNF541.84215', 'ZNF542.147947', 'ZNF543.125919', 'ZNF544.27300', 'ZNF546.339327', 'ZNF547.284306', 'ZNF548.147694', 'ZNF549.256051', 'ZNF550.162972', 'ZNF551.90233', 'ZNF552.79818', 'ZNF554.115196', 'ZNF555.148254', 'ZNF556.80032', 'ZNF557.79230', 'ZNF558.148156', 'ZNF559.84527', 'ZNF560.147741', 'ZNF561.93134', 'ZNF562.54811', 'ZNF563.147837', 'ZNF564.163050', 'ZNF565.147929', 'ZNF566.84924', 'ZNF567.163081', 'ZNF568.374900', 'ZNF569.148266', 'ZNF570.148268', 'ZNF571.51276', 'ZNF572.137209', 'ZNF573.126231', 'ZNF574.64763', 'ZNF575.284346', 'ZNF576.79177', 'ZNF577.84765', 'ZNF578.147660', 'ZNF579.163033', 'ZNF57.126295', 'ZNF580.51157', 'ZNF581.51545', 'ZNF582.147948', 'ZNF583.147949', 'ZNF584.201514', 'ZNF585A.199704', 'ZNF585B.92285', 'ZNF586.54807', 'ZNF587.84914', 'ZNF589.51385', 'ZNF592.9640', 'ZNF593.51042', 'ZNF594.84622', 'ZNF595.152687', 'ZNF596.169270', 'ZNF597.146434', 'ZNF598.90850', 'ZNF599.148103', 'ZNF600.162966', 'ZNF605.100289635', 'ZNF606.80095', 'ZNF607.84775', 'ZNF608.57507', 'ZNF609.23060', 'ZNF610.162963', 'ZNF611.81856', 'ZNF613.79898', 'ZNF614.80110', 'ZNF615.284370', 'ZNF616.90317', 'ZNF618.114991', 'ZNF619.285267', 'ZNF620.253639', 'ZNF621.285268', 'ZNF622.90441', 'ZNF623.9831', 'ZNF624.57547', 'ZNF625.90589', 'ZNF626.199777', 'ZNF627.199692', 'ZNF628.89887', 'ZNF629.23361', 'ZNF630.57232', 'ZNF638.27332', 'ZNF639.51193', 'ZNF641.121274', 'ZNF642.339559', 'ZNF643.65243', 'ZNF644.84146', 'ZNF645.158506', 'ZNF646.9726', 'ZNF648.127665', 'ZNF649.65251', 'ZNF652.22834', 'ZNF653.115950', 'ZNF654.55279', 'ZNF655.79027', 'ZNF658.26149', 'ZNF660.285349', 'ZNF662.389114', 'ZNF664.144348', 'ZNF665.79788', 'ZNF667.63934', 'ZNF668.79759', 'ZNF669.79862', 'ZNF670.93474', 'ZNF671.79891', 'ZNF672.79894', 'ZNF673.55634', 'ZNF674.641339', 'ZNF675.171392', 'ZNF676.163223', 'ZNF677.342926', 'ZNF678.339500', 'ZNF679.168417', 'ZNF680.340252', 'ZNF681.148213', 'ZNF682.91120', 'ZNF683.257101', 'ZNF684.127396', 'ZNF687.57592', 'ZNF688.146542', 'ZNF689.115509', 'ZNF691.51058', 'ZNF692.55657', 'ZNF695.57116', 'ZNF696.79943', 'ZNF697.90874', 'ZNF699.374879', 'ZNF69.7620', 'ZNF700.90592', 'ZNF701.55762', 'ZNF702P.79986', 'ZNF703.80139', 'ZNF704.619279', 'ZNF705A.440077', 'ZNF705D.728957', 'ZNF706.51123', 'ZNF707.286075', 'ZNF708.7562', 'ZNF709.163051', 'ZNF70.7621', 'ZNF710.374655', 'ZNF711.7552', 'ZNF713.349075', 'ZNF714.148206', 'ZNF716.441234', 'ZNF717.100131827', 'ZNF718.255403', 'ZNF71.58491', 'ZNF720.124411', 'ZNF721.170960', 'ZNF727.442319', 'ZNF732.654254', 'ZNF735.730291', 'ZNF737.100129842', 'ZNF738.148203', 'ZNF740.283337', 'ZNF746.155061', 'ZNF747.65988', 'ZNF749.388567', 'ZNF74.7625', 'ZNF750.79755', 'ZNF75A.7627', 'ZNF75D.7626', 'ZNF761.388561', 'ZNF763.284390', 'ZNF764.92595', 'ZNF765.91661', 'ZNF766.90321', 'ZNF767.79970', 'ZNF768.79724', 'ZNF76.7629', 'ZNF770.54989', 'ZNF771.51333', 'ZNF772.400720', 'ZNF773.374928', 'ZNF774.342132', 'ZNF775.285971', 'ZNF776.284309', 'ZNF777.27153', 'ZNF778.197320', 'ZNF77.58492', 'ZNF780A.284323', 'ZNF780B.163131', 'ZNF781.163115', 'ZNF782.158431', 'ZNF784.147808', 'ZNF785.146540', 'ZNF786.136051', 'ZNF787.126208', 'ZNF788.388507', 'ZNF789.285989', 'ZNF790.388536', 'ZNF791.163049', 'ZNF792.126375', 'ZNF793.390927', 'ZNF799.90576', 'ZNF79.7633', 'ZNF7.7553', 'ZNF800.168850', 'ZNF804A.91752', 'ZNF804B.219578', 'ZNF805.390980', 'ZNF808.388558', 'ZNF80.7634', 'ZNF813.126017', 'ZNF814.730051', 'ZNF815.401303', 'ZNF816A.125893', 'ZNF81.347344', 'ZNF821.55565', 'ZNF823.55552', 'ZNF826.664701', 'ZNF827.152485', 'ZNF828.283489', 'ZNF829.374899', 'ZNF830.91603', 'ZNF831.128611', 'ZNF833.401898', 'ZNF835.90485', 'ZNF836.162962', 'ZNF837.116412', 'ZNF839.55778', 'ZNF83.55769', 'ZNF841.284371', 'ZNF843.283933', 'ZNF844.284391', 'ZNF845.91664', 'ZNF846.162993', 'ZNF84.7637', 'ZNF853.54753', 'ZNF85.7639', 'ZNF860.344787', 'ZNF862.643641', 'ZNF876P.642280', 'ZNF878.729747', 'ZNF879.345462', 'ZNF880.400713', 'ZNF883.169834', 'ZNF8.7554', 'ZNF90.7643', 'ZNF91.7644', 'ZNF92.168374', 'ZNF93.81931', 'ZNF98.148198', 'ZNF99.7652', 'ZNFX1.57169', 'ZNHIT1.10467', 'ZNHIT2.741', 'ZNHIT3.9326', 'ZNHIT6.54680', 'ZNRD1.30834', 'ZNRF1.84937', 'ZNRF2.223082', 'ZNRF3.84133', 'ZNRF4.148066', 'ZP1.22917', 'ZP2.7783', 'ZP3.7784', 'ZP4.57829', 'ZPBP2.124626', 'ZPBP.11055', 'ZPLD1.131368', 'ZRANB1.54764', 'ZRANB2.9406', 'ZRANB3.84083', 'ZRSR2.8233', 'ZSCAN10.84891', 'ZSCAN12P1.221584', 'ZSCAN12.9753', 'ZSCAN16.80345', 'ZSCAN18.65982', 'ZSCAN1.284312', 'ZSCAN20.7579', 'ZSCAN21.7589', 'ZSCAN22.342945', 'ZSCAN23.222696', 'ZSCAN29.146050', 'ZSCAN2.54993', 'ZSCAN4.201516', 'ZSCAN5A.79149', 'ZSCAN5B.342933', 'ZSWIM1.90204', 'ZSWIM2.151112', 'ZSWIM3.140831', 'ZSWIM4.65249', 'ZSWIM5.57643', 'ZSWIM6.57688', 'ZSWIM7.125150', 'ZUFSP.221302', 'ZW10.9183', 'ZWILCH.55055', 'ZWINT.11130', 'ZXDA.7789', 'ZXDB.158586', 'ZXDC.79364', 'ZYG11A.440590', 'ZYG11B.79699', 'ZYX.7791', 'ZZEF1.23140', 'ZZZ3.26009', 'psiTPTE22.387590', 'tAKR.389932', 'patients2', 'gender', 'race', 'ethnicity', 'vital_status', 'tumor_status', 'new_tumor_event_dx_indicator', 'abr', 'aux']\n"
     ]
    }
   ],
   "source": [
    "print (data.columns.tolist()[20000::])\n"
   ]
  }
 ],
 "metadata": {
  "kernelspec": {
   "display_name": "Python 3",
   "language": "python",
   "name": "python3"
  },
  "language_info": {
   "codemirror_mode": {
    "name": "ipython",
    "version": 3
   },
   "file_extension": ".py",
   "mimetype": "text/x-python",
   "name": "python",
   "nbconvert_exporter": "python",
   "pygments_lexer": "ipython3",
   "version": "3.6.7"
  }
 },
 "nbformat": 4,
 "nbformat_minor": 2
}
