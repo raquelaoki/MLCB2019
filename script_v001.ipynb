{
 "cells": [
  {
   "cell_type": "code",
   "execution_count": 1,
   "metadata": {},
   "outputs": [],
   "source": [
    "import pandas as pd \n",
    "import numpy as np "
   ]
  },
  {
   "cell_type": "code",
   "execution_count": 2,
   "metadata": {},
   "outputs": [],
   "source": [
    "#Load dataset\n",
    "filename1 = \"C:\\\\Users\\\\raque\\\\Google Drive\\\\SFU\\\\Project 2 - Spring 2019\\\\Data\\\\tcga_cli.txt\"\n",
    "#filename2 = \"C:\\\\Users\\\\raque\\\\Google Drive\\\\SFU\\\\Project 2 - Spring 2019\\\\Data\\\\tcga_rna.txt\"\n",
    "#filename1 = \"C:\\\\Users\\\\raoki\\\\Documents\\\\GitHub\\\\project_spring2019\\\\Data\\\\tcga_cli.txt\"\n",
    "#filename2 = \"C:\\\\Users\\\\raoki\\\\Documents\\\\GitHub\\\\project_spring2019\\\\Data\\\\tcga_rna.txt\"\n",
    "datac = pd.read_csv(filename1, sep=';')\n",
    "#datar = pd.read_csv(filename2, sep=';')"
   ]
  },
  {
   "cell_type": "code",
   "execution_count": 3,
   "metadata": {},
   "outputs": [
    {
     "data": {
      "text/plain": [
       "(2854, 9)"
      ]
     },
     "execution_count": 3,
     "metadata": {},
     "output_type": "execute_result"
    }
   ],
   "source": [
    "datac.shape"
   ]
  },
  {
   "cell_type": "code",
   "execution_count": 4,
   "metadata": {},
   "outputs": [
    {
     "data": {
      "text/html": [
       "<div>\n",
       "<style scoped>\n",
       "    .dataframe tbody tr th:only-of-type {\n",
       "        vertical-align: middle;\n",
       "    }\n",
       "\n",
       "    .dataframe tbody tr th {\n",
       "        vertical-align: top;\n",
       "    }\n",
       "\n",
       "    .dataframe thead th {\n",
       "        text-align: right;\n",
       "    }\n",
       "</style>\n",
       "<table border=\"1\" class=\"dataframe\">\n",
       "  <thead>\n",
       "    <tr style=\"text-align: right;\">\n",
       "      <th></th>\n",
       "      <th>patients</th>\n",
       "      <th>gender</th>\n",
       "      <th>race</th>\n",
       "      <th>ethnicity</th>\n",
       "      <th>vital_status</th>\n",
       "      <th>tumor_status</th>\n",
       "      <th>new_tumor_event_dx_indicator</th>\n",
       "      <th>abr</th>\n",
       "      <th>aux</th>\n",
       "    </tr>\n",
       "  </thead>\n",
       "  <tbody>\n",
       "    <tr>\n",
       "      <th>36</th>\n",
       "      <td>TCGA-21-A5DI</td>\n",
       "      <td>MALE</td>\n",
       "      <td>WHITE</td>\n",
       "      <td>NOT HISPANIC OR LATINO</td>\n",
       "      <td>Alive</td>\n",
       "      <td>[Unknown]</td>\n",
       "      <td>NO</td>\n",
       "      <td>LUSC</td>\n",
       "      <td>1</td>\n",
       "    </tr>\n",
       "    <tr>\n",
       "      <th>73</th>\n",
       "      <td>TCGA-22-A5C4</td>\n",
       "      <td>MALE</td>\n",
       "      <td>WHITE</td>\n",
       "      <td>NOT HISPANIC OR LATINO</td>\n",
       "      <td>Alive</td>\n",
       "      <td>TUMOR FREE</td>\n",
       "      <td>NO</td>\n",
       "      <td>LUSC</td>\n",
       "      <td>1</td>\n",
       "    </tr>\n",
       "    <tr>\n",
       "      <th>74</th>\n",
       "      <td>TCGA-2A-A8VL</td>\n",
       "      <td>MALE</td>\n",
       "      <td>[Not Available]</td>\n",
       "      <td>[Not Available]</td>\n",
       "      <td>Alive</td>\n",
       "      <td>TUMOR FREE</td>\n",
       "      <td>NO</td>\n",
       "      <td>PRAD</td>\n",
       "      <td>1</td>\n",
       "    </tr>\n",
       "    <tr>\n",
       "      <th>75</th>\n",
       "      <td>TCGA-2A-A8VO</td>\n",
       "      <td>MALE</td>\n",
       "      <td>[Not Available]</td>\n",
       "      <td>[Not Available]</td>\n",
       "      <td>Alive</td>\n",
       "      <td>TUMOR FREE</td>\n",
       "      <td>NO</td>\n",
       "      <td>PRAD</td>\n",
       "      <td>1</td>\n",
       "    </tr>\n",
       "    <tr>\n",
       "      <th>76</th>\n",
       "      <td>TCGA-2A-A8VT</td>\n",
       "      <td>MALE</td>\n",
       "      <td>[Not Available]</td>\n",
       "      <td>[Not Available]</td>\n",
       "      <td>Alive</td>\n",
       "      <td>TUMOR FREE</td>\n",
       "      <td>NO</td>\n",
       "      <td>PRAD</td>\n",
       "      <td>1</td>\n",
       "    </tr>\n",
       "  </tbody>\n",
       "</table>\n",
       "</div>"
      ],
      "text/plain": [
       "        patients gender             race               ethnicity vital_status  \\\n",
       "36  TCGA-21-A5DI   MALE            WHITE  NOT HISPANIC OR LATINO        Alive   \n",
       "73  TCGA-22-A5C4   MALE            WHITE  NOT HISPANIC OR LATINO        Alive   \n",
       "74  TCGA-2A-A8VL   MALE  [Not Available]         [Not Available]        Alive   \n",
       "75  TCGA-2A-A8VO   MALE  [Not Available]         [Not Available]        Alive   \n",
       "76  TCGA-2A-A8VT   MALE  [Not Available]         [Not Available]        Alive   \n",
       "\n",
       "   tumor_status new_tumor_event_dx_indicator   abr  aux  \n",
       "36    [Unknown]                           NO  LUSC    1  \n",
       "73   TUMOR FREE                           NO  LUSC    1  \n",
       "74   TUMOR FREE                           NO  PRAD    1  \n",
       "75   TUMOR FREE                           NO  PRAD    1  \n",
       "76   TUMOR FREE                           NO  PRAD    1  "
      ]
     },
     "execution_count": 4,
     "metadata": {},
     "output_type": "execute_result"
    }
   ],
   "source": [
    "datac.head()"
   ]
  }
 ],
 "metadata": {
  "kernelspec": {
   "display_name": "Python 3",
   "language": "python",
   "name": "python3"
  },
  "language_info": {
   "codemirror_mode": {
    "name": "ipython",
    "version": 3
   },
   "file_extension": ".py",
   "mimetype": "text/x-python",
   "name": "python",
   "nbconvert_exporter": "python",
   "pygments_lexer": "ipython3",
   "version": "3.6.7"
  }
 },
 "nbformat": 4,
 "nbformat_minor": 2
}
