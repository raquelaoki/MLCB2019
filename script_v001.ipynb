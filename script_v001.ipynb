{
 "cells": [
  {
   "cell_type": "code",
   "execution_count": 17,
   "metadata": {},
   "outputs": [],
   "source": [
    "import pandas as pd \n",
    "import numpy as np \n",
    "from scipy.stats import gamma, dirichlet, beta\n"
   ]
  },
  {
   "cell_type": "code",
   "execution_count": 2,
   "metadata": {},
   "outputs": [],
   "source": [
    "#Load dataset\n",
    "#filename1 = \"C:\\\\Users\\\\raque\\\\Google Drive\\\\SFU\\\\Project 2 - Spring 2019\\\\Data\\\\tcga_cli.txt\"\n",
    "#filename2 = \"C:\\\\Users\\\\raque\\\\Google Drive\\\\SFU\\\\Project 2 - Spring 2019\\\\Data\\\\tcga_rna.txt\"\n",
    "filename1 = \"C:\\\\Users\\\\raoki\\\\Documents\\\\GitHub\\\\project_spring2019\\\\Data\\\\tcga_cli.txt\"\n",
    "filename2 = \"C:\\\\Users\\\\raoki\\\\Documents\\\\GitHub\\\\project_spring2019\\\\Data\\\\tcga_rna.txt\"\n",
    "datac = pd.read_csv(filename1, sep=';')\n",
    "datar = pd.read_csv(filename2, sep=';')"
   ]
  },
  {
   "cell_type": "code",
   "execution_count": 11,
   "metadata": {},
   "outputs": [
    {
     "name": "stdout",
     "output_type": "stream",
     "text": [
      "clinical data:  (2854, 10) \n",
      "RNA data: (2854, 20533)\n",
      "NO     1815\n",
      "YES    1039\n",
      "Name: new_tumor_event_dx_indicator, dtype: int64 \n",
      " 0    1815\n",
      "1    1039\n",
      "Name: y, dtype: int64\n"
     ]
    }
   ],
   "source": [
    "#Checking the size of the datasets\n",
    "print('clinical data: ',datac.shape, '\\nRNA data:', datar.shape)\n",
    "\n",
    "#Creating a variable indicator with the prediction value in the 0/1 format\n",
    "datac['y'] = datac['new_tumor_event_dx_indicator']\n",
    "datac['y'] = datac['y'].replace(['NO','YES'],[0,1])\n",
    "\n",
    "#Checking if the values are ok\n",
    "print(datac['new_tumor_event_dx_indicator'].value_counts(),'\\n', datac['y'].value_counts())"
   ]
  },
  {
   "cell_type": "code",
   "execution_count": 12,
   "metadata": {},
   "outputs": [],
   "source": [
    "#Declaring my priori values: param = [c0,gamma0,sk,eta,phivk,pj,cj] \n",
    "#j=sample of patients \n",
    "#v=genes\n",
    "#k=latent\n",
    "def priori_K(param,k,j):\n",
    "    s0 = 1 #define better numbers in the future\n",
    "    t0 = 1 #define better numbers in the future \n",
    "    c0 = gamma.pdf(x=param,a = s0,scale = 1/t0)\n",
    "    a0 = 1 #define better numbers in the future\n",
    "    b0 = 1 #define better numbers in the future\n",
    "    gamma0 = gamma.pdf(x=param,a = a0,scale = 1/b0)\n",
    "    sk = gamma.pdf(x=param,a=gamma0/k,scale=1/c0)#array\n",
    "    s0 = 1\n",
    "    w0 = 1\n",
    "    eta = gamma.pdf(x=param, a = s0, scale = w0)\n",
    "    phivk = dirichlet.pdf(param, np.repeat(eta,j)) #array\n",
    "    priorik = np.log(c0)+np.log(gamma0)+np.log(sk).sum()+np.log(eta)+np.log(phivk).sum()\n",
    "    return (priorik)\n",
    "    \n",
    "def priori_J(param,j):\n",
    "    a0 = 1 #define better numbers in the future\n",
    "    b0 = 1 #define better numbers in the future\n",
    "    pj = beta(x=param,a=a0,b=b0) #same numbers? #array\n",
    "    e0 = 1\n",
    "    f0 = 1\n",
    "    cj = gamma.pdf(param, a = e0, scale = f0)\n",
    "    priorij = np.log(pj).sum()+np.log(cj) #array\n",
    "    return (priorij)\n",
    "    "
   ]
  },
  {
   "cell_type": "code",
   "execution_count": 27,
   "metadata": {},
   "outputs": [
    {
     "data": {
      "text/plain": [
       "0.6065306597126334"
      ]
     },
     "execution_count": 27,
     "metadata": {},
     "output_type": "execute_result"
    }
   ],
   "source": [
    "#dirichlet.pdf([0.5],shape= [0.5])\n",
    "#quantiles = np.array([0.2, 0.2, 0.6])\n",
    "#alpha = np.array([0.4, 5, 15]) \n",
    "#dirichlet.pdf(quantiles, alpha)\n",
    "gamma.pdf(0.5, a = 1, scale =1)"
   ]
  }
 ],
 "metadata": {
  "kernelspec": {
   "display_name": "Python 3",
   "language": "python",
   "name": "python3"
  },
  "language_info": {
   "codemirror_mode": {
    "name": "ipython",
    "version": 3
   },
   "file_extension": ".py",
   "mimetype": "text/x-python",
   "name": "python",
   "nbconvert_exporter": "python",
   "pygments_lexer": "ipython3",
   "version": "3.7.1"
  }
 },
 "nbformat": 4,
 "nbformat_minor": 2
}
